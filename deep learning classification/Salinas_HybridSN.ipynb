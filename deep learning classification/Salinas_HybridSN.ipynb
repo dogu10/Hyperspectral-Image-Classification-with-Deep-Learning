{
 "cells": [
  {
   "cell_type": "code",
   "execution_count": 1,
   "id": "7f93d9d3",
   "metadata": {
    "_cell_guid": "b1076dfc-b9ad-4769-8c92-a6c4dae69d19",
    "_uuid": "8f2839f25d086af736a60e9eeb907d3b93b6e0e5",
    "execution": {
     "iopub.execute_input": "2022-12-16T11:55:05.502084Z",
     "iopub.status.busy": "2022-12-16T11:55:05.501020Z",
     "iopub.status.idle": "2022-12-16T11:55:12.107713Z",
     "shell.execute_reply": "2022-12-16T11:55:12.107102Z"
    },
    "papermill": {
     "duration": 6.618553,
     "end_time": "2022-12-16T11:55:12.109611",
     "exception": false,
     "start_time": "2022-12-16T11:55:05.491058",
     "status": "completed"
    },
    "tags": []
   },
   "outputs": [
    {
     "data": {
      "text/html": [
       "        <script type=\"text/javascript\">\n",
       "        window.PlotlyConfig = {MathJaxConfig: 'local'};\n",
       "        if (window.MathJax && window.MathJax.Hub && window.MathJax.Hub.Config) {window.MathJax.Hub.Config({SVG: {font: \"STIX-Web\"}});}\n",
       "        if (typeof require !== 'undefined') {\n",
       "        require.undef(\"plotly\");\n",
       "        requirejs.config({\n",
       "            paths: {\n",
       "                'plotly': ['https://cdn.plot.ly/plotly-2.14.0.min']\n",
       "            }\n",
       "        });\n",
       "        require(['plotly'], function(Plotly) {\n",
       "            window._Plotly = Plotly;\n",
       "        });\n",
       "        }\n",
       "        </script>\n",
       "        "
      ]
     },
     "metadata": {},
     "output_type": "display_data"
    }
   ],
   "source": [
    "import tensorflow as tf\n",
    "from tensorflow.keras.layers import Conv2D, Conv3D, Flatten, Dense, Reshape, BatchNormalization\n",
    "from tensorflow.keras.layers import Dropout, Input\n",
    "from tensorflow.keras.models import Model\n",
    "from tensorflow.keras.optimizers import Adam\n",
    "from tensorflow.keras.callbacks import ModelCheckpoint\n",
    "from keras.utils import np_utils\n",
    "from sklearn.decomposition import PCA\n",
    "from sklearn.model_selection import train_test_split\n",
    "from sklearn.metrics import confusion_matrix, accuracy_score, classification_report, cohen_kappa_score\n",
    "from operator import truediv\n",
    "from scipy.io import loadmat\n",
    "from plotly.offline import init_notebook_mode\n",
    "import numpy as np\n",
    "import matplotlib.pyplot as plt\n",
    "import scipy.io as sio\n",
    "import spectral\n",
    "\n",
    "init_notebook_mode(connected=True)\n",
    "\n"
   ]
  },
  {
   "cell_type": "code",
   "execution_count": 2,
   "id": "150ab496",
   "metadata": {
    "execution": {
     "iopub.execute_input": "2022-12-16T11:55:12.127385Z",
     "iopub.status.busy": "2022-12-16T11:55:12.126182Z",
     "iopub.status.idle": "2022-12-16T11:55:12.922327Z",
     "shell.execute_reply": "2022-12-16T11:55:12.921301Z"
    },
    "papermill": {
     "duration": 0.807455,
     "end_time": "2022-12-16T11:55:12.925135",
     "exception": false,
     "start_time": "2022-12-16T11:55:12.117680",
     "status": "completed"
    },
    "tags": []
   },
   "outputs": [],
   "source": [
    "X=loadmat('../input/salinas/salinas_corrected.mat')['salinas_corrected']\n",
    "y=loadmat('../input/salinas/salinas_gt.mat')['salinas_gt']"
   ]
  },
  {
   "cell_type": "code",
   "execution_count": 3,
   "id": "c7030dac",
   "metadata": {
    "execution": {
     "iopub.execute_input": "2022-12-16T11:55:12.948767Z",
     "iopub.status.busy": "2022-12-16T11:55:12.947976Z",
     "iopub.status.idle": "2022-12-16T11:55:12.951581Z",
     "shell.execute_reply": "2022-12-16T11:55:12.950979Z"
    },
    "papermill": {
     "duration": 0.014683,
     "end_time": "2022-12-16T11:55:12.953073",
     "exception": false,
     "start_time": "2022-12-16T11:55:12.938390",
     "status": "completed"
    },
    "tags": []
   },
   "outputs": [],
   "source": [
    "test_ratio=0.7\n",
    "pixelsize=25"
   ]
  },
  {
   "cell_type": "code",
   "execution_count": 4,
   "id": "10bba015",
   "metadata": {
    "execution": {
     "iopub.execute_input": "2022-12-16T11:55:12.970278Z",
     "iopub.status.busy": "2022-12-16T11:55:12.969703Z",
     "iopub.status.idle": "2022-12-16T11:55:12.980454Z",
     "shell.execute_reply": "2022-12-16T11:55:12.979560Z"
    },
    "papermill": {
     "duration": 0.021761,
     "end_time": "2022-12-16T11:55:12.982487",
     "exception": false,
     "start_time": "2022-12-16T11:55:12.960726",
     "status": "completed"
    },
    "tags": []
   },
   "outputs": [],
   "source": [
    "def padWithZeros(X, margin=2):\n",
    "    newX = np.zeros((X.shape[0] + 2 * margin, X.shape[1] + 2* margin, X.shape[2]))\n",
    "    x_offset = margin\n",
    "    y_offset = margin\n",
    "    newX[x_offset:X.shape[0] + x_offset, y_offset:X.shape[1] + y_offset, :] = X\n",
    "    return newX\n",
    "def applyPCA(X, numComponents=75):\n",
    "    newX = np.reshape(X, (-1, X.shape[2]))\n",
    "    pca = PCA(n_components=numComponents, whiten=True)\n",
    "    newX = pca.fit_transform(newX)\n",
    "    newX = np.reshape(newX, (X.shape[0],X.shape[1], numComponents))\n",
    "    return newX, pca\n",
    "def createImageCubes(X, y, windowSize=5, removeZeroLabels = True):\n",
    "    margin = int((windowSize - 1) / 2)\n",
    "    zeroPaddedX = padWithZeros(X, margin=margin)\n",
    "    # split patches\n",
    "    patchesData = np.zeros((X.shape[0] * X.shape[1], windowSize, windowSize, X.shape[2]))\n",
    "    patchesLabels = np.zeros((X.shape[0] * X.shape[1]))\n",
    "    patchIndex = 0\n",
    "    for r in range(margin, zeroPaddedX.shape[0] - margin):\n",
    "        for c in range(margin, zeroPaddedX.shape[1] - margin):\n",
    "            patch = zeroPaddedX[r - margin:r + margin + 1, c - margin:c + margin + 1]   \n",
    "            patchesData[patchIndex, :, :, :] = patch\n",
    "            patchesLabels[patchIndex] = y[r-margin, c-margin]\n",
    "            patchIndex = patchIndex + 1\n",
    "    if removeZeroLabels:\n",
    "        patchesData = patchesData[patchesLabels>0,:,:,:]\n",
    "        patchesLabels = patchesLabels[patchesLabels>0]\n",
    "        patchesLabels -= 1\n",
    "    return patchesData, patchesLabels"
   ]
  },
  {
   "cell_type": "code",
   "execution_count": 5,
   "id": "5171d22c",
   "metadata": {
    "execution": {
     "iopub.execute_input": "2022-12-16T11:55:12.999357Z",
     "iopub.status.busy": "2022-12-16T11:55:12.998991Z",
     "iopub.status.idle": "2022-12-16T11:55:13.007362Z",
     "shell.execute_reply": "2022-12-16T11:55:13.006419Z"
    },
    "papermill": {
     "duration": 0.019085,
     "end_time": "2022-12-16T11:55:13.009375",
     "exception": false,
     "start_time": "2022-12-16T11:55:12.990290",
     "status": "completed"
    },
    "tags": []
   },
   "outputs": [
    {
     "data": {
      "text/plain": [
       "((512, 217, 204), (512, 217))"
      ]
     },
     "execution_count": 5,
     "metadata": {},
     "output_type": "execute_result"
    }
   ],
   "source": [
    "X.shape, y.shape"
   ]
  },
  {
   "cell_type": "code",
   "execution_count": 6,
   "id": "cf844614",
   "metadata": {
    "execution": {
     "iopub.execute_input": "2022-12-16T11:55:13.028745Z",
     "iopub.status.busy": "2022-12-16T11:55:13.027577Z",
     "iopub.status.idle": "2022-12-16T11:55:15.669641Z",
     "shell.execute_reply": "2022-12-16T11:55:15.668594Z"
    },
    "papermill": {
     "duration": 2.65294,
     "end_time": "2022-12-16T11:55:15.671668",
     "exception": false,
     "start_time": "2022-12-16T11:55:13.018728",
     "status": "completed"
    },
    "tags": []
   },
   "outputs": [
    {
     "data": {
      "text/plain": [
       "(512, 217, 15)"
      ]
     },
     "execution_count": 6,
     "metadata": {},
     "output_type": "execute_result"
    }
   ],
   "source": [
    "X,pca=applyPCA(X,numComponents=15)\n",
    "X.shape"
   ]
  },
  {
   "cell_type": "code",
   "execution_count": 7,
   "id": "f2475754",
   "metadata": {
    "execution": {
     "iopub.execute_input": "2022-12-16T11:55:15.689063Z",
     "iopub.status.busy": "2022-12-16T11:55:15.688679Z",
     "iopub.status.idle": "2022-12-16T11:55:20.405994Z",
     "shell.execute_reply": "2022-12-16T11:55:20.404746Z"
    },
    "papermill": {
     "duration": 4.728825,
     "end_time": "2022-12-16T11:55:20.408408",
     "exception": false,
     "start_time": "2022-12-16T11:55:15.679583",
     "status": "completed"
    },
    "tags": []
   },
   "outputs": [
    {
     "data": {
      "text/plain": [
       "((54129, 25, 25, 15), (54129,))"
      ]
     },
     "execution_count": 7,
     "metadata": {},
     "output_type": "execute_result"
    }
   ],
   "source": [
    "X, y = createImageCubes(X, y, windowSize=25)\n",
    "\n",
    "X.shape, y.shape"
   ]
  },
  {
   "cell_type": "code",
   "execution_count": 8,
   "id": "fedac95a",
   "metadata": {
    "execution": {
     "iopub.execute_input": "2022-12-16T11:55:20.426593Z",
     "iopub.status.busy": "2022-12-16T11:55:20.426249Z",
     "iopub.status.idle": "2022-12-16T11:55:21.406442Z",
     "shell.execute_reply": "2022-12-16T11:55:21.405441Z"
    },
    "papermill": {
     "duration": 0.991468,
     "end_time": "2022-12-16T11:55:21.408318",
     "exception": false,
     "start_time": "2022-12-16T11:55:20.416850",
     "status": "completed"
    },
    "tags": []
   },
   "outputs": [
    {
     "data": {
      "text/plain": [
       "((16238, 25, 25, 15), (37891, 25, 25, 15), (16238,), (37891,))"
      ]
     },
     "execution_count": 8,
     "metadata": {},
     "output_type": "execute_result"
    }
   ],
   "source": [
    "def splitTrainTestSet(X, y, testRatio, randomState=345):\n",
    "    X_train, X_test, y_train, y_test = train_test_split(X, y, test_size=testRatio, random_state=randomState,\n",
    "                                                        stratify=y)\n",
    "    return X_train, X_test, y_train, y_test\n",
    "Xtrain, Xtest, ytrain, ytest = splitTrainTestSet(X, y, test_ratio)\n",
    "\n",
    "Xtrain.shape, Xtest.shape, ytrain.shape, ytest.shape"
   ]
  },
  {
   "cell_type": "code",
   "execution_count": 9,
   "id": "358463ec",
   "metadata": {
    "execution": {
     "iopub.execute_input": "2022-12-16T11:55:21.427119Z",
     "iopub.status.busy": "2022-12-16T11:55:21.425933Z",
     "iopub.status.idle": "2022-12-16T11:55:21.721062Z",
     "shell.execute_reply": "2022-12-16T11:55:21.720177Z"
    },
    "papermill": {
     "duration": 0.306833,
     "end_time": "2022-12-16T11:55:21.723557",
     "exception": false,
     "start_time": "2022-12-16T11:55:21.416724",
     "status": "completed"
    },
    "tags": []
   },
   "outputs": [
    {
     "data": {
      "text/plain": [
       "((10825, 25, 25, 15), (5413, 25, 25, 15), (10825,), (5413,))"
      ]
     },
     "execution_count": 9,
     "metadata": {},
     "output_type": "execute_result"
    }
   ],
   "source": [
    "Xtrain, Xvalid, ytrain, yvalid = splitTrainTestSet(Xtrain, ytrain, 0.3333)\n",
    "\n",
    "Xtrain.shape, Xvalid.shape, ytrain.shape, yvalid.shape"
   ]
  },
  {
   "cell_type": "code",
   "execution_count": 10,
   "id": "ccb4693f",
   "metadata": {
    "execution": {
     "iopub.execute_input": "2022-12-16T11:55:21.741668Z",
     "iopub.status.busy": "2022-12-16T11:55:21.741347Z",
     "iopub.status.idle": "2022-12-16T11:55:21.748085Z",
     "shell.execute_reply": "2022-12-16T11:55:21.746775Z"
    },
    "papermill": {
     "duration": 0.019274,
     "end_time": "2022-12-16T11:55:21.751346",
     "exception": false,
     "start_time": "2022-12-16T11:55:21.732072",
     "status": "completed"
    },
    "tags": []
   },
   "outputs": [
    {
     "data": {
      "text/plain": [
       "(10825, 25, 25, 15, 1)"
      ]
     },
     "execution_count": 10,
     "metadata": {},
     "output_type": "execute_result"
    }
   ],
   "source": [
    "Xtrain = Xtrain.reshape(-1, pixelsize, pixelsize, 15, 1)\n",
    "Xtrain.shape"
   ]
  },
  {
   "cell_type": "code",
   "execution_count": 11,
   "id": "a874744e",
   "metadata": {
    "execution": {
     "iopub.execute_input": "2022-12-16T11:55:21.770838Z",
     "iopub.status.busy": "2022-12-16T11:55:21.770247Z",
     "iopub.status.idle": "2022-12-16T11:55:21.775818Z",
     "shell.execute_reply": "2022-12-16T11:55:21.775007Z"
    },
    "papermill": {
     "duration": 0.017265,
     "end_time": "2022-12-16T11:55:21.777584",
     "exception": false,
     "start_time": "2022-12-16T11:55:21.760319",
     "status": "completed"
    },
    "tags": []
   },
   "outputs": [
    {
     "data": {
      "text/plain": [
       "(10825, 16)"
      ]
     },
     "execution_count": 11,
     "metadata": {},
     "output_type": "execute_result"
    }
   ],
   "source": [
    "ytrain = np_utils.to_categorical(ytrain)\n",
    "ytrain.shape"
   ]
  },
  {
   "cell_type": "code",
   "execution_count": 12,
   "id": "0915a2b5",
   "metadata": {
    "execution": {
     "iopub.execute_input": "2022-12-16T11:55:21.795840Z",
     "iopub.status.busy": "2022-12-16T11:55:21.795445Z",
     "iopub.status.idle": "2022-12-16T11:55:21.802322Z",
     "shell.execute_reply": "2022-12-16T11:55:21.801071Z"
    },
    "papermill": {
     "duration": 0.017844,
     "end_time": "2022-12-16T11:55:21.803978",
     "exception": false,
     "start_time": "2022-12-16T11:55:21.786134",
     "status": "completed"
    },
    "tags": []
   },
   "outputs": [
    {
     "data": {
      "text/plain": [
       "(5413, 25, 25, 15, 1)"
      ]
     },
     "execution_count": 12,
     "metadata": {},
     "output_type": "execute_result"
    }
   ],
   "source": [
    "Xvalid = Xvalid.reshape(-1, pixelsize, pixelsize, 15, 1) \n",
    "Xvalid.shape"
   ]
  },
  {
   "cell_type": "code",
   "execution_count": 13,
   "id": "57714d09",
   "metadata": {
    "execution": {
     "iopub.execute_input": "2022-12-16T11:55:21.822080Z",
     "iopub.status.busy": "2022-12-16T11:55:21.821674Z",
     "iopub.status.idle": "2022-12-16T11:55:21.827581Z",
     "shell.execute_reply": "2022-12-16T11:55:21.826729Z"
    },
    "papermill": {
     "duration": 0.017098,
     "end_time": "2022-12-16T11:55:21.829288",
     "exception": false,
     "start_time": "2022-12-16T11:55:21.812190",
     "status": "completed"
    },
    "tags": []
   },
   "outputs": [
    {
     "data": {
      "text/plain": [
       "(5413, 16)"
      ]
     },
     "execution_count": 13,
     "metadata": {},
     "output_type": "execute_result"
    }
   ],
   "source": [
    "yvalid=np_utils.to_categorical(yvalid)\n",
    "yvalid.shape"
   ]
  },
  {
   "cell_type": "code",
   "execution_count": 14,
   "id": "0ce53974",
   "metadata": {
    "execution": {
     "iopub.execute_input": "2022-12-16T11:55:21.847857Z",
     "iopub.status.busy": "2022-12-16T11:55:21.847532Z",
     "iopub.status.idle": "2022-12-16T11:55:22.040473Z",
     "shell.execute_reply": "2022-12-16T11:55:22.039360Z"
    },
    "papermill": {
     "duration": 0.205047,
     "end_time": "2022-12-16T11:55:22.043109",
     "exception": false,
     "start_time": "2022-12-16T11:55:21.838062",
     "status": "completed"
    },
    "tags": []
   },
   "outputs": [
    {
     "name": "stdout",
     "output_type": "stream",
     "text": [
      "(None, 19, 19, 3, 32)\n"
     ]
    },
    {
     "name": "stderr",
     "output_type": "stream",
     "text": [
      "2022-12-16 11:55:21.897655: I tensorflow/core/common_runtime/process_util.cc:146] Creating new thread pool with default inter op setting: 2. Tune using inter_op_parallelism_threads for best performance.\n"
     ]
    }
   ],
   "source": [
    "input_layer=Input((25,25,15,1))\n",
    "conv_layer1 = Conv3D(filters=8, kernel_size=(3, 3, 7), activation='relu')(input_layer)\n",
    "conv_layer2 = Conv3D(filters=16, kernel_size=(3, 3, 5), activation='relu')(conv_layer1)\n",
    "conv_layer3 = Conv3D(filters=32, kernel_size=(3, 3, 3), activation='relu')(conv_layer2)\n",
    "print(conv_layer3.shape)\n",
    "conv3d_shape = conv_layer3.shape\n",
    "conv_layer3 = Reshape((conv3d_shape[1], conv3d_shape[2], conv3d_shape[3]*conv3d_shape[4]))(conv_layer3)\n",
    "conv_layer4 = Conv2D(filters=64, kernel_size=(3,3), activation='relu')(conv_layer3)\n",
    "flatten_layer = Flatten()(conv_layer4)\n",
    "dense_layer1 = Dense(units=256, activation='relu')(flatten_layer)\n",
    "dense_layer1 = Dropout(0.4)(dense_layer1)\n",
    "dense_layer2 = Dense(units=128, activation='relu')(dense_layer1)\n",
    "dense_layer2 = Dropout(0.4)(dense_layer2)\n",
    "output_layer = Dense(units=16, activation='softmax')(dense_layer2)"
   ]
  },
  {
   "cell_type": "code",
   "execution_count": 15,
   "id": "b4be1185",
   "metadata": {
    "execution": {
     "iopub.execute_input": "2022-12-16T11:55:22.063459Z",
     "iopub.status.busy": "2022-12-16T11:55:22.062319Z",
     "iopub.status.idle": "2022-12-16T11:55:22.075901Z",
     "shell.execute_reply": "2022-12-16T11:55:22.074316Z"
    },
    "papermill": {
     "duration": 0.025883,
     "end_time": "2022-12-16T11:55:22.078214",
     "exception": false,
     "start_time": "2022-12-16T11:55:22.052331",
     "status": "completed"
    },
    "tags": []
   },
   "outputs": [
    {
     "name": "stdout",
     "output_type": "stream",
     "text": [
      "Model: \"model\"\n",
      "_________________________________________________________________\n",
      "Layer (type)                 Output Shape              Param #   \n",
      "=================================================================\n",
      "input_1 (InputLayer)         [(None, 25, 25, 15, 1)]   0         \n",
      "_________________________________________________________________\n",
      "conv3d (Conv3D)              (None, 23, 23, 9, 8)      512       \n",
      "_________________________________________________________________\n",
      "conv3d_1 (Conv3D)            (None, 21, 21, 5, 16)     5776      \n",
      "_________________________________________________________________\n",
      "conv3d_2 (Conv3D)            (None, 19, 19, 3, 32)     13856     \n",
      "_________________________________________________________________\n",
      "reshape (Reshape)            (None, 19, 19, 96)        0         \n",
      "_________________________________________________________________\n",
      "conv2d (Conv2D)              (None, 17, 17, 64)        55360     \n",
      "_________________________________________________________________\n",
      "flatten (Flatten)            (None, 18496)             0         \n",
      "_________________________________________________________________\n",
      "dense (Dense)                (None, 256)               4735232   \n",
      "_________________________________________________________________\n",
      "dropout (Dropout)            (None, 256)               0         \n",
      "_________________________________________________________________\n",
      "dense_1 (Dense)              (None, 128)               32896     \n",
      "_________________________________________________________________\n",
      "dropout_1 (Dropout)          (None, 128)               0         \n",
      "_________________________________________________________________\n",
      "dense_2 (Dense)              (None, 16)                2064      \n",
      "=================================================================\n",
      "Total params: 4,845,696\n",
      "Trainable params: 4,845,696\n",
      "Non-trainable params: 0\n",
      "_________________________________________________________________\n"
     ]
    }
   ],
   "source": [
    "model=Model(inputs=input_layer,outputs=output_layer)\n",
    "model.summary()"
   ]
  },
  {
   "cell_type": "code",
   "execution_count": 16,
   "id": "153191fb",
   "metadata": {
    "execution": {
     "iopub.execute_input": "2022-12-16T11:55:22.098179Z",
     "iopub.status.busy": "2022-12-16T11:55:22.097603Z",
     "iopub.status.idle": "2022-12-16T11:55:22.110679Z",
     "shell.execute_reply": "2022-12-16T11:55:22.109987Z"
    },
    "papermill": {
     "duration": 0.025243,
     "end_time": "2022-12-16T11:55:22.112579",
     "exception": false,
     "start_time": "2022-12-16T11:55:22.087336",
     "status": "completed"
    },
    "tags": []
   },
   "outputs": [],
   "source": [
    "adam=Adam(learning_rate=0.001,decay=1e-06)\n",
    "model.compile(optimizer=adam,loss='categorical_crossentropy',metrics=['accuracy'])"
   ]
  },
  {
   "cell_type": "code",
   "execution_count": 17,
   "id": "4212f47d",
   "metadata": {
    "execution": {
     "iopub.execute_input": "2022-12-16T11:55:22.132025Z",
     "iopub.status.busy": "2022-12-16T11:55:22.131700Z",
     "iopub.status.idle": "2022-12-16T11:55:22.136557Z",
     "shell.execute_reply": "2022-12-16T11:55:22.135613Z"
    },
    "papermill": {
     "duration": 0.016786,
     "end_time": "2022-12-16T11:55:22.138693",
     "exception": false,
     "start_time": "2022-12-16T11:55:22.121907",
     "status": "completed"
    },
    "tags": []
   },
   "outputs": [],
   "source": [
    "filepath = \"best-model.hdf5\"\n",
    "metric='acc'\n",
    "checkpoint=ModelCheckpoint(filepath=filepath,monitor=metric,verbose=1,save_best_only=True,mode='max')\n",
    "callback_list=[checkpoint]"
   ]
  },
  {
   "cell_type": "code",
   "execution_count": 18,
   "id": "2c42b97c",
   "metadata": {
    "execution": {
     "iopub.execute_input": "2022-12-16T11:55:22.158284Z",
     "iopub.status.busy": "2022-12-16T11:55:22.157664Z",
     "iopub.status.idle": "2022-12-16T12:01:13.732322Z",
     "shell.execute_reply": "2022-12-16T12:01:13.731212Z"
    },
    "papermill": {
     "duration": 351.586848,
     "end_time": "2022-12-16T12:01:13.734548",
     "exception": false,
     "start_time": "2022-12-16T11:55:22.147700",
     "status": "completed"
    },
    "tags": []
   },
   "outputs": [
    {
     "name": "stderr",
     "output_type": "stream",
     "text": [
      "2022-12-16 11:55:22.620711: I tensorflow/compiler/mlir/mlir_graph_optimization_pass.cc:185] None of the MLIR Optimization Passes are enabled (registered 2)\n"
     ]
    },
    {
     "name": "stdout",
     "output_type": "stream",
     "text": [
      "Epoch 1/10\n",
      "43/43 [==============================] - 36s 822ms/step - loss: 0.7046 - accuracy: 0.7727 - val_loss: 0.0275 - val_accuracy: 0.9924\n",
      "Epoch 2/10\n",
      "43/43 [==============================] - 35s 825ms/step - loss: 0.0671 - accuracy: 0.9782 - val_loss: 0.0085 - val_accuracy: 0.9972\n",
      "Epoch 3/10\n",
      "43/43 [==============================] - 35s 814ms/step - loss: 0.0264 - accuracy: 0.9915 - val_loss: 0.0068 - val_accuracy: 0.9980\n",
      "Epoch 4/10\n",
      "43/43 [==============================] - 35s 815ms/step - loss: 0.0262 - accuracy: 0.9926 - val_loss: 0.0081 - val_accuracy: 0.9989\n",
      "Epoch 5/10\n",
      "43/43 [==============================] - 35s 814ms/step - loss: 0.0159 - accuracy: 0.9955 - val_loss: 0.0012 - val_accuracy: 1.0000\n",
      "Epoch 6/10\n",
      "43/43 [==============================] - 35s 813ms/step - loss: 0.0162 - accuracy: 0.9949 - val_loss: 0.0016 - val_accuracy: 0.9996\n",
      "Epoch 7/10\n",
      "43/43 [==============================] - 35s 815ms/step - loss: 0.0052 - accuracy: 0.9984 - val_loss: 7.3755e-04 - val_accuracy: 0.9998\n",
      "Epoch 8/10\n",
      "43/43 [==============================] - 35s 815ms/step - loss: 0.0070 - accuracy: 0.9982 - val_loss: 0.0024 - val_accuracy: 0.9993\n",
      "Epoch 9/10\n",
      "43/43 [==============================] - 35s 816ms/step - loss: 0.0100 - accuracy: 0.9973 - val_loss: 0.0018 - val_accuracy: 0.9994\n",
      "Epoch 10/10\n",
      "43/43 [==============================] - 35s 812ms/step - loss: 0.0092 - accuracy: 0.9981 - val_loss: 9.8509e-04 - val_accuracy: 0.9996\n"
     ]
    }
   ],
   "source": [
    "history=model.fit(x=Xtrain,y=ytrain,validation_data=(Xvalid,yvalid),batch_size=256,epochs=10,callbacks=callback_list)"
   ]
  },
  {
   "cell_type": "code",
   "execution_count": 19,
   "id": "22c41787",
   "metadata": {
    "execution": {
     "iopub.execute_input": "2022-12-16T12:01:13.803192Z",
     "iopub.status.busy": "2022-12-16T12:01:13.801847Z",
     "iopub.status.idle": "2022-12-16T12:01:13.886151Z",
     "shell.execute_reply": "2022-12-16T12:01:13.885194Z"
    },
    "papermill": {
     "duration": 0.120473,
     "end_time": "2022-12-16T12:01:13.888586",
     "exception": false,
     "start_time": "2022-12-16T12:01:13.768113",
     "status": "completed"
    },
    "tags": []
   },
   "outputs": [],
   "source": [
    "model.save(\"best-model1.hdf5\")"
   ]
  },
  {
   "cell_type": "code",
   "execution_count": 20,
   "id": "f6c5bf70",
   "metadata": {
    "execution": {
     "iopub.execute_input": "2022-12-16T12:01:13.961797Z",
     "iopub.status.busy": "2022-12-16T12:01:13.961429Z",
     "iopub.status.idle": "2022-12-16T12:01:14.467194Z",
     "shell.execute_reply": "2022-12-16T12:01:14.466525Z"
    },
    "papermill": {
     "duration": 0.546833,
     "end_time": "2022-12-16T12:01:14.468888",
     "exception": false,
     "start_time": "2022-12-16T12:01:13.922055",
     "status": "completed"
    },
    "tags": []
   },
   "outputs": [
    {
     "data": {
      "image/png": "[encoded data removed]",
      "text/plain": [
       "<Figure size 504x504 with 1 Axes>"
      ]
     },
     "metadata": {
      "needs_background": "light"
     },
     "output_type": "display_data"
    }
   ],
   "source": [
    "plt.figure(figsize=(7,7)) \n",
    "plt.grid() \n",
    "plt.plot(history.history['loss'])\n",
    "plt.plot(history.history['val_loss'])\n",
    "plt.ylabel('Loss') \n",
    "plt.xlabel('Epochs')\n",
    "plt.legend(['Training','Validation'], loc='upper right') \n",
    "plt.savefig(\"loss_curve.pdf\") \n",
    "plt.show()\n",
    "\n"
   ]
  },
  {
   "cell_type": "code",
   "execution_count": 21,
   "id": "480b40cb",
   "metadata": {
    "execution": {
     "iopub.execute_input": "2022-12-16T12:01:14.540685Z",
     "iopub.status.busy": "2022-12-16T12:01:14.539752Z",
     "iopub.status.idle": "2022-12-16T12:01:14.746774Z",
     "shell.execute_reply": "2022-12-16T12:01:14.745474Z"
    },
    "papermill": {
     "duration": 0.244928,
     "end_time": "2022-12-16T12:01:14.748966",
     "exception": false,
     "start_time": "2022-12-16T12:01:14.504038",
     "status": "completed"
    },
    "tags": []
   },
   "outputs": [
    {
     "data": {
      "image/png": "[encoded data removed]",
      "text/plain": [
       "<Figure size 360x360 with 1 Axes>"
      ]
     },
     "metadata": {
      "needs_background": "light"
     },
     "output_type": "display_data"
    }
   ],
   "source": [
    "plt.figure(figsize=(5,5)) \n",
    "plt.ylim(0,1.1) \n",
    "plt.grid() \n",
    "plt.plot(history.history['accuracy'])\n",
    "plt.plot(history.history['val_accuracy'])\n",
    "plt.ylabel('Accuracy') \n",
    "plt.xlabel('Epochs') \n",
    "plt.legend(['Training','Validation']) \n",
    "plt.savefig(\"acc_curve.pdf\") \n",
    "plt.show()"
   ]
  },
  {
   "cell_type": "code",
   "execution_count": 22,
   "id": "06c74b0e",
   "metadata": {
    "execution": {
     "iopub.execute_input": "2022-12-16T12:01:14.820142Z",
     "iopub.status.busy": "2022-12-16T12:01:14.819736Z",
     "iopub.status.idle": "2022-12-16T12:01:14.828823Z",
     "shell.execute_reply": "2022-12-16T12:01:14.827892Z"
    },
    "papermill": {
     "duration": 0.046781,
     "end_time": "2022-12-16T12:01:14.830877",
     "exception": false,
     "start_time": "2022-12-16T12:01:14.784096",
     "status": "completed"
    },
    "tags": []
   },
   "outputs": [],
   "source": [
    "model.load_weights=(\"best-model1.hdf5\")\n",
    "model.compile(loss='categorical_crossentropy', optimizer=adam, metrics=['accuracy'])\n"
   ]
  },
  {
   "cell_type": "code",
   "execution_count": 23,
   "id": "d06b884c",
   "metadata": {
    "execution": {
     "iopub.execute_input": "2022-12-16T12:01:14.900851Z",
     "iopub.status.busy": "2022-12-16T12:01:14.900465Z",
     "iopub.status.idle": "2022-12-16T12:01:14.905632Z",
     "shell.execute_reply": "2022-12-16T12:01:14.905041Z"
    },
    "papermill": {
     "duration": 0.042911,
     "end_time": "2022-12-16T12:01:14.908023",
     "exception": false,
     "start_time": "2022-12-16T12:01:14.865112",
     "status": "completed"
    },
    "tags": []
   },
   "outputs": [
    {
     "data": {
      "text/plain": [
       "(37891, 25, 25, 15, 1)"
      ]
     },
     "execution_count": 23,
     "metadata": {},
     "output_type": "execute_result"
    }
   ],
   "source": [
    "Xtest=Xtest.reshape(-1,pixelsize,pixelsize,15,1)\n",
    "Xtest.shape"
   ]
  },
  {
   "cell_type": "code",
   "execution_count": 24,
   "id": "bd09090a",
   "metadata": {
    "execution": {
     "iopub.execute_input": "2022-12-16T12:01:14.977254Z",
     "iopub.status.busy": "2022-12-16T12:01:14.976680Z",
     "iopub.status.idle": "2022-12-16T12:01:14.982637Z",
     "shell.execute_reply": "2022-12-16T12:01:14.981973Z"
    },
    "papermill": {
     "duration": 0.042123,
     "end_time": "2022-12-16T12:01:14.984263",
     "exception": false,
     "start_time": "2022-12-16T12:01:14.942140",
     "status": "completed"
    },
    "tags": []
   },
   "outputs": [
    {
     "data": {
      "text/plain": [
       "(37891, 16)"
      ]
     },
     "execution_count": 24,
     "metadata": {},
     "output_type": "execute_result"
    }
   ],
   "source": [
    "ytest=np_utils.to_categorical(ytest)\n",
    "ytest.shape"
   ]
  },
  {
   "cell_type": "code",
   "execution_count": 25,
   "id": "2640cf70",
   "metadata": {
    "execution": {
     "iopub.execute_input": "2022-12-16T12:01:15.052030Z",
     "iopub.status.busy": "2022-12-16T12:01:15.051627Z",
     "iopub.status.idle": "2022-12-16T12:01:52.024773Z",
     "shell.execute_reply": "2022-12-16T12:01:52.023682Z"
    },
    "papermill": {
     "duration": 37.042325,
     "end_time": "2022-12-16T12:01:52.059607",
     "exception": false,
     "start_time": "2022-12-16T12:01:15.017282",
     "status": "completed"
    },
    "tags": []
   },
   "outputs": [
    {
     "name": "stdout",
     "output_type": "stream",
     "text": [
      "              precision    recall  f1-score   support\n",
      "\n",
      "           0       1.00      1.00      1.00      1406\n",
      "           1       1.00      1.00      1.00      2608\n",
      "           2       1.00      1.00      1.00      1383\n",
      "           3       1.00      1.00      1.00       976\n",
      "           4       1.00      1.00      1.00      1875\n",
      "           5       1.00      1.00      1.00      2771\n",
      "           6       1.00      1.00      1.00      2505\n",
      "           7       1.00      1.00      1.00      7890\n",
      "           8       1.00      1.00      1.00      4342\n",
      "           9       1.00      1.00      1.00      2295\n",
      "          10       1.00      1.00      1.00       748\n",
      "          11       1.00      1.00      1.00      1349\n",
      "          12       1.00      1.00      1.00       641\n",
      "          13       1.00      1.00      1.00       749\n",
      "          14       1.00      1.00      1.00      5088\n",
      "          15       1.00      1.00      1.00      1265\n",
      "\n",
      "    accuracy                           1.00     37891\n",
      "   macro avg       1.00      1.00      1.00     37891\n",
      "weighted avg       1.00      1.00      1.00     37891\n",
      "\n"
     ]
    }
   ],
   "source": [
    "Y_pred_test=model.predict(Xtest)\n",
    "Y_pred_test=np.argmax(Y_pred_test,axis=1)\n",
    "classification= classification_report(np.argmax(ytest,axis=1),Y_pred_test)\n",
    "print(classification)"
   ]
  },
  {
   "cell_type": "code",
   "execution_count": 26,
   "id": "9c655f0a",
   "metadata": {
    "execution": {
     "iopub.execute_input": "2022-12-16T12:01:52.128568Z",
     "iopub.status.busy": "2022-12-16T12:01:52.128159Z",
     "iopub.status.idle": "2022-12-16T12:01:52.138845Z",
     "shell.execute_reply": "2022-12-16T12:01:52.137858Z"
    },
    "papermill": {
     "duration": 0.04757,
     "end_time": "2022-12-16T12:01:52.141090",
     "exception": false,
     "start_time": "2022-12-16T12:01:52.093520",
     "status": "completed"
    },
    "tags": []
   },
   "outputs": [],
   "source": [
    "import time\n",
    "def AA_andEachClassAccuracy(confusion_matrix):\n",
    "    counter= confusion_matrix[0]\n",
    "    list_diag= np.diag(confusion_matrix)\n",
    "    list_raw_sum= np.sum(confusion_matrix,axis=1)\n",
    "    each_acc=np.nan_to_num(truediv(list_diag,list_raw_sum))\n",
    "    average_acc=np.mean(each_acc)\n",
    "    return each_acc, average_acc\n",
    "def reports(X_test,y_test,name):\n",
    "    start=time.time()\n",
    "    Y_pred=model.predict(X_test)\n",
    "    y_pred=np.argmax(Y_pred,axis=1)\n",
    "    end=time.time()\n",
    "    print(end-start)\n",
    "    target_names= ['Brocoli_green_weeds_1','Brocoli_green_weeds_2','Fallow','Fallow_rough_plow','Fallow_smooth',\n",
    "                        'Stubble','Celery','Grapes_untrained','Soil_vinyard_develop','Corn_senesced_green_weeds',\n",
    "                        'Lettuce_romaine_4wk','Lettuce_romaine_5wk','Lettuce_romaine_6wk','Lettuce_romaine_7wk',\n",
    "                        'Vinyard_untrained','Vinyard_vertical_trellis']\n",
    "    classification=classification_report(np.argmax(y_test,axis=1),y_pred,target_names=target_names)\n",
    "    oa=accuracy_score(np.argmax(y_test,axis=1),y_pred)\n",
    "    confusion = confusion_matrix(np.argmax(y_test, axis=1), y_pred)\n",
    "    each_acc, aa = AA_andEachClassAccuracy(confusion)\n",
    "    kappa = cohen_kappa_score(np.argmax(y_test, axis=1), y_pred)\n",
    "    score = model.evaluate(X_test, y_test, batch_size=32)\n",
    "    Test_Loss =  score[0]*100\n",
    "    Test_accuracy = score[1]*100\n",
    "    return classification, confusion, Test_Loss, Test_accuracy, oa*100, each_acc*100, aa*100, kappa*100"
   ]
  },
  {
   "cell_type": "code",
   "execution_count": 27,
   "id": "10490fb7",
   "metadata": {
    "execution": {
     "iopub.execute_input": "2022-12-16T12:01:52.213243Z",
     "iopub.status.busy": "2022-12-16T12:01:52.212848Z",
     "iopub.status.idle": "2022-12-16T12:03:07.709461Z",
     "shell.execute_reply": "2022-12-16T12:03:07.708211Z"
    },
    "papermill": {
     "duration": 75.535227,
     "end_time": "2022-12-16T12:03:07.711972",
     "exception": false,
     "start_time": "2022-12-16T12:01:52.176745",
     "status": "completed"
    },
    "tags": []
   },
   "outputs": [
    {
     "name": "stdout",
     "output_type": "stream",
     "text": [
      "37.75221872329712\n",
      "1185/1185 [==============================] - 36s 30ms/step - loss: 4.2865e-04 - accuracy: 0.9999\n"
     ]
    }
   ],
   "source": [
    "dataset='SU'\n",
    "import os \n",
    "classification, confusion, Test_loss, Test_accuracy, oa, each_acc, aa, kappa = reports(Xtest,ytest,dataset)\n",
    "classification = str(classification)\n",
    "confusion = str(confusion)\n",
    "file_name = \"classification_report.txt\"\n",
    "\n",
    "with open(file_name, 'w') as x_file:\n",
    "    x_file.write('{} Test loss (%)'.format(Test_loss))\n",
    "    x_file.write('\\n')\n",
    "    x_file.write('{} Test accuracy (%)'.format(Test_accuracy))\n",
    "    x_file.write('\\n')\n",
    "    x_file.write('\\n')\n",
    "    x_file.write('{} Kappa accuracy (%)'.format(kappa))\n",
    "    x_file.write('\\n')\n",
    "    x_file.write('{} Overall accuracy (%)'.format(oa))\n",
    "    x_file.write('\\n')\n",
    "    x_file.write('{} Average accuracy (%)'.format(aa))\n",
    "    x_file.write('\\n')\n",
    "    x_file.write('\\n')\n",
    "    x_file.write('{}'.format(classification))\n",
    "    x_file.write('\\n')\n",
    "    x_file.write('{}'.format(confusion))"
   ]
  },
  {
   "cell_type": "code",
   "execution_count": 28,
   "id": "06b62049",
   "metadata": {
    "execution": {
     "iopub.execute_input": "2022-12-16T12:03:07.848220Z",
     "iopub.status.busy": "2022-12-16T12:03:07.847818Z",
     "iopub.status.idle": "2022-12-16T12:03:07.852987Z",
     "shell.execute_reply": "2022-12-16T12:03:07.852116Z"
    },
    "papermill": {
     "duration": 0.074669,
     "end_time": "2022-12-16T12:03:07.854769",
     "exception": false,
     "start_time": "2022-12-16T12:03:07.780100",
     "status": "completed"
    },
    "tags": []
   },
   "outputs": [],
   "source": [
    "def Patch(data,height_index,width_index):\n",
    "    height_slice=slice(height_index,height_index+PATCH_SIZE)\n",
    "    width_slice = slice(width_index, width_index+PATCH_SIZE)\n",
    "    patch = data[height_slice, width_slice, :]\n",
    "    \n",
    "    return patch"
   ]
  },
  {
   "cell_type": "code",
   "execution_count": 29,
   "id": "d1ace3db",
   "metadata": {
    "execution": {
     "iopub.execute_input": "2022-12-16T12:03:07.990250Z",
     "iopub.status.busy": "2022-12-16T12:03:07.989872Z",
     "iopub.status.idle": "2022-12-16T12:03:08.301762Z",
     "shell.execute_reply": "2022-12-16T12:03:08.300993Z"
    },
    "papermill": {
     "duration": 0.382182,
     "end_time": "2022-12-16T12:03:08.304049",
     "exception": false,
     "start_time": "2022-12-16T12:03:07.921867",
     "status": "completed"
    },
    "tags": []
   },
   "outputs": [],
   "source": [
    "X=loadmat('../input/salinas/salinas_corrected.mat')['salinas_corrected']\n",
    "y=loadmat('../input/salinas/salinas_gt.mat')['salinas_gt']"
   ]
  },
  {
   "cell_type": "code",
   "execution_count": 30,
   "id": "779574f6",
   "metadata": {
    "execution": {
     "iopub.execute_input": "2022-12-16T12:03:08.440578Z",
     "iopub.status.busy": "2022-12-16T12:03:08.440257Z",
     "iopub.status.idle": "2022-12-16T12:03:08.445108Z",
     "shell.execute_reply": "2022-12-16T12:03:08.444039Z"
    },
    "papermill": {
     "duration": 0.074918,
     "end_time": "2022-12-16T12:03:08.447485",
     "exception": false,
     "start_time": "2022-12-16T12:03:08.372567",
     "status": "completed"
    },
    "tags": []
   },
   "outputs": [],
   "source": [
    "height=y.shape[0]\n",
    "weidth=y.shape[1]\n",
    "PATCH_SIZE=25\n",
    "numComponents=15"
   ]
  },
  {
   "cell_type": "code",
   "execution_count": 31,
   "id": "e0e12f24",
   "metadata": {
    "execution": {
     "iopub.execute_input": "2022-12-16T12:03:08.583256Z",
     "iopub.status.busy": "2022-12-16T12:03:08.582684Z",
     "iopub.status.idle": "2022-12-16T12:03:11.338654Z",
     "shell.execute_reply": "2022-12-16T12:03:11.337459Z"
    },
    "papermill": {
     "duration": 2.826742,
     "end_time": "2022-12-16T12:03:11.341279",
     "exception": false,
     "start_time": "2022-12-16T12:03:08.514537",
     "status": "completed"
    },
    "tags": []
   },
   "outputs": [],
   "source": [
    "X,pca=applyPCA(X,numComponents=numComponents)\n"
   ]
  },
  {
   "cell_type": "code",
   "execution_count": 32,
   "id": "f6b23252",
   "metadata": {
    "execution": {
     "iopub.execute_input": "2022-12-16T12:03:11.497671Z",
     "iopub.status.busy": "2022-12-16T12:03:11.497101Z",
     "iopub.status.idle": "2022-12-16T12:03:11.510032Z",
     "shell.execute_reply": "2022-12-16T12:03:11.508764Z"
    },
    "papermill": {
     "duration": 0.090606,
     "end_time": "2022-12-16T12:03:11.512713",
     "exception": false,
     "start_time": "2022-12-16T12:03:11.422107",
     "status": "completed"
    },
    "tags": []
   },
   "outputs": [],
   "source": [
    "X=padWithZeros(X,PATCH_SIZE//2)\n"
   ]
  },
  {
   "cell_type": "code",
   "execution_count": 33,
   "id": "ff470282",
   "metadata": {
    "execution": {
     "iopub.execute_input": "2022-12-16T12:03:11.674837Z",
     "iopub.status.busy": "2022-12-16T12:03:11.674218Z",
     "iopub.status.idle": "2022-12-16T12:46:26.010000Z",
     "shell.execute_reply": "2022-12-16T12:46:26.008862Z"
    },
    "papermill": {
     "duration": 2594.420951,
     "end_time": "2022-12-16T12:46:26.012710",
     "exception": false,
     "start_time": "2022-12-16T12:03:11.591759",
     "status": "completed"
    },
    "tags": []
   },
   "outputs": [],
   "source": [
    "outputs=np.zeros((height,weidth))\n",
    "for i in range (height):\n",
    "    for j in range (weidth):\n",
    "        target=int(y[i,j])\n",
    "        if target==0:\n",
    "            continue\n",
    "        else:\n",
    "            image_patch=Patch(X,i,j)\n",
    "            X_test_image = image_patch.reshape(1,image_patch.shape[0],image_patch.shape[1], image_patch.shape[2], 1).astype('float32')                                   \n",
    "            prediction=(model.predict(X_test_image))\n",
    "            prediction=np.argmax(prediction,axis=1)\n",
    "            outputs[i][j]=prediction+1"
   ]
  },
  {
   "cell_type": "code",
   "execution_count": 34,
   "id": "ccb576f2",
   "metadata": {
    "execution": {
     "iopub.execute_input": "2022-12-16T12:46:26.151409Z",
     "iopub.status.busy": "2022-12-16T12:46:26.151014Z",
     "iopub.status.idle": "2022-12-16T12:46:26.327711Z",
     "shell.execute_reply": "2022-12-16T12:46:26.326146Z"
    },
    "papermill": {
     "duration": 0.247186,
     "end_time": "2022-12-16T12:46:26.330470",
     "exception": false,
     "start_time": "2022-12-16T12:46:26.083284",
     "status": "completed"
    },
    "tags": []
   },
   "outputs": [
    {
     "data": {
      "image/png": "[encoded data removed]",
      "text/plain": [
       "<Figure size 504x504 with 1 Axes>"
      ]
     },
     "metadata": {
      "needs_background": "light"
     },
     "output_type": "display_data"
    }
   ],
   "source": [
    "ground_truth = spectral.imshow(classes = y,figsize =(7,7))\n"
   ]
  },
  {
   "cell_type": "code",
   "execution_count": 35,
   "id": "765bd5e6",
   "metadata": {
    "execution": {
     "iopub.execute_input": "2022-12-16T12:46:26.468651Z",
     "iopub.status.busy": "2022-12-16T12:46:26.468230Z",
     "iopub.status.idle": "2022-12-16T12:46:26.633179Z",
     "shell.execute_reply": "2022-12-16T12:46:26.631867Z"
    },
    "papermill": {
     "duration": 0.236868,
     "end_time": "2022-12-16T12:46:26.635329",
     "exception": false,
     "start_time": "2022-12-16T12:46:26.398461",
     "status": "completed"
    },
    "tags": []
   },
   "outputs": [
    {
     "data": {
      "image/png": "[encoded data removed]",
      "text/plain": [
       "<Figure size 504x504 with 1 Axes>"
      ]
     },
     "metadata": {
      "needs_background": "light"
     },
     "output_type": "display_data"
    }
   ],
   "source": [
    "predict_image = spectral.imshow(classes = outputs.astype(int),figsize =(7,7))\n"
   ]
  },
  {
   "cell_type": "code",
   "execution_count": 36,
   "id": "4c1a7d00",
   "metadata": {
    "execution": {
     "iopub.execute_input": "2022-12-16T12:46:26.777536Z",
     "iopub.status.busy": "2022-12-16T12:46:26.777173Z",
     "iopub.status.idle": "2022-12-16T12:46:26.807464Z",
     "shell.execute_reply": "2022-12-16T12:46:26.806439Z"
    },
    "papermill": {
     "duration": 0.103725,
     "end_time": "2022-12-16T12:46:26.809600",
     "exception": false,
     "start_time": "2022-12-16T12:46:26.705875",
     "status": "completed"
    },
    "tags": []
   },
   "outputs": [],
   "source": [
    "spectral.save_rgb(\"predictions.jpg\", outputs.astype(int), colors=spectral.spy_colors)\n"
   ]
  },
  {
   "cell_type": "code",
   "execution_count": null,
   "id": "2c50e62e",
   "metadata": {
    "papermill": {
     "duration": 0.06878,
     "end_time": "2022-12-16T12:46:26.946265",
     "exception": false,
     "start_time": "2022-12-16T12:46:26.877485",
     "status": "completed"
    },
    "tags": []
   },
   "outputs": [],
   "source": []
  }
 ],
 "metadata": {
  "kernelspec": {
   "display_name": "Python 3",
   "language": "python",
   "name": "python3"
  },
  "language_info": {
   "codemirror_mode": {
    "name": "ipython",
    "version": 3
   },
   "file_extension": ".py",
   "mimetype": "text/x-python",
   "name": "python",
   "nbconvert_exporter": "python",
   "pygments_lexer": "ipython3",
   "version": "3.7.12"
  },
  "papermill": {
   "default_parameters": {},
   "duration": 3091.54264,
   "end_time": "2022-12-16T12:46:30.060894",
   "environment_variables": {},
   "exception": null,
   "input_path": "__notebook__.ipynb",
   "output_path": "__notebook__.ipynb",
   "parameters": {},
   "start_time": "2022-12-16T11:54:58.518254",
   "version": "2.3.4"
  }
 },
 "nbformat": 4,
 "nbformat_minor": 5
}
