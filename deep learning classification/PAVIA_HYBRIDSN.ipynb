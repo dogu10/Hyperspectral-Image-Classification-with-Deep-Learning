{
 "cells": [
  {
   "cell_type": "code",
   "execution_count": 1,
   "metadata": {
    "execution": {
     "iopub.execute_input": "2022-11-15T06:39:47.849819Z",
     "iopub.status.busy": "2022-11-15T06:39:47.848238Z",
     "iopub.status.idle": "2022-11-15T06:39:55.854859Z",
     "shell.execute_reply": "2022-11-15T06:39:55.853131Z",
     "shell.execute_reply.started": "2022-11-15T06:39:47.849610Z"
    }
   },
   "outputs": [
    {
     "data": {
      "text/html": [
       "        <script type=\"text/javascript\">\n",
       "        window.PlotlyConfig = {MathJaxConfig: 'local'};\n",
       "        if (window.MathJax && window.MathJax.Hub && window.MathJax.Hub.Config) {window.MathJax.Hub.Config({SVG: {font: \"STIX-Web\"}});}\n",
       "        if (typeof require !== 'undefined') {\n",
       "        require.undef(\"plotly\");\n",
       "        requirejs.config({\n",
       "            paths: {\n",
       "                'plotly': ['https://cdn.plot.ly/plotly-2.16.1.min']\n",
       "            }\n",
       "        });\n",
       "        require(['plotly'], function(Plotly) {\n",
       "            window._Plotly = Plotly;\n",
       "        });\n",
       "        }\n",
       "        </script>\n",
       "        "
      ]
     },
     "metadata": {},
     "output_type": "display_data"
    }
   ],
   "source": [
    "import tensorflow as tf\n",
    "import keras\n",
    "from keras.layers import Conv2D, Conv3D, Flatten, Dense, Reshape, BatchNormalization\n",
    "from keras.layers import Dropout, Input\n",
    "from keras.models import Model\n",
    "from tensorflow.keras.optimizers import Adam\n",
    "from keras.callbacks import ModelCheckpoint\n",
    "from keras.utils import np_utils\n",
    "\n",
    "from sklearn.decomposition import PCA\n",
    "from sklearn.model_selection import train_test_split\n",
    "from sklearn.metrics import confusion_matrix, accuracy_score, classification_report, cohen_kappa_score\n",
    "\n",
    "from operator import truediv\n",
    "from scipy.io import loadmat\n",
    "from plotly.offline import init_notebook_mode\n",
    "\n",
    "import numpy as np\n",
    "import matplotlib.pyplot as plt\n",
    "import scipy.io as sio\n",
    "import spectral\n",
    "\n",
    "init_notebook_mode(connected=True)\n",
    "%matplotlib inline"
   ]
  },
  {
   "cell_type": "markdown",
   "metadata": {},
   "source": [
    "## Veri setimizi yüklüyoruz\n",
    "Burada veri setimi tek bir fonksiyonda yüklemeye çalıştım ancak hata aldım sonradan düzelteceğim ve tek programda toplayacağım"
   ]
  },
  {
   "cell_type": "code",
   "execution_count": 2,
   "metadata": {
    "execution": {
     "iopub.execute_input": "2022-11-15T06:39:55.858992Z",
     "iopub.status.busy": "2022-11-15T06:39:55.858001Z",
     "iopub.status.idle": "2022-11-15T06:39:57.450275Z",
     "shell.execute_reply": "2022-11-15T06:39:57.448945Z",
     "shell.execute_reply.started": "2022-11-15T06:39:55.858928Z"
    },
    "scrolled": true
   },
   "outputs": [],
   "source": [
    "#def loadData(name):\n",
    "    #if name =='PU':\n",
    "X=loadmat('../hyperspectral/PaviaU.mat')['paviaU']\n",
    "y=loadmat('../hyperspectral/PaviaU_gt.mat')['paviaU_gt']\n",
    "    #elif name=='SU':\n",
    "        #data=loadmat('../input/salinas/salinas_corrected.mat')['salinas_corrected']\n",
    "        #gt=loadmat('../input/salinas/salinas_gt.mat')['salinas_gt']"
   ]
  },
  {
   "cell_type": "markdown",
   "metadata": {},
   "source": [
    "## Test_Ratio ve pixelsize belirliyoruz.\n",
    " # test_ratio: veri setimizin ne kadarını test için ayıracağımızı belirtiyor.\n",
    " # pixelsize: verisetimizdeki görüntü(ler) keras ile oluşturduğumuz CNNler içinde kullanabilmesi için reshape ile çözünürlüğünü değişmemiz gerekiyor"
   ]
  },
  {
   "cell_type": "code",
   "execution_count": 3,
   "metadata": {
    "execution": {
     "iopub.execute_input": "2022-11-15T06:39:57.452942Z",
     "iopub.status.busy": "2022-11-15T06:39:57.452334Z",
     "iopub.status.idle": "2022-11-15T06:39:57.459681Z",
     "shell.execute_reply": "2022-11-15T06:39:57.458084Z",
     "shell.execute_reply.started": "2022-11-15T06:39:57.452886Z"
    }
   },
   "outputs": [],
   "source": [
    "dataset='PU'\n",
    "test_ratio=0.7\n",
    "pixelsize=25"
   ]
  },
  {
   "cell_type": "code",
   "execution_count": 4,
   "metadata": {
    "execution": {
     "iopub.execute_input": "2022-11-15T06:39:57.463073Z",
     "iopub.status.busy": "2022-11-15T06:39:57.462583Z",
     "iopub.status.idle": "2022-11-15T06:39:57.475871Z",
     "shell.execute_reply": "2022-11-15T06:39:57.474479Z",
     "shell.execute_reply.started": "2022-11-15T06:39:57.463036Z"
    }
   },
   "outputs": [],
   "source": [
    "def padWithZeros(X, margin=2):\n",
    "    newX = np.zeros((X.shape[0] + 2 * margin, X.shape[1] + 2* margin, X.shape[2]))\n",
    "    x_offset = margin\n",
    "    y_offset = margin\n",
    "    newX[x_offset:X.shape[0] + x_offset, y_offset:X.shape[1] + y_offset, :] = X\n",
    "    return newX"
   ]
  },
  {
   "cell_type": "markdown",
   "metadata": {},
   "source": [
    "Train test spliti yapıyoruz.\n"
   ]
  },
  {
   "cell_type": "code",
   "execution_count": 5,
   "metadata": {
    "execution": {
     "iopub.execute_input": "2022-11-15T06:39:57.477824Z",
     "iopub.status.busy": "2022-11-15T06:39:57.477306Z",
     "iopub.status.idle": "2022-11-15T06:39:57.492467Z",
     "shell.execute_reply": "2022-11-15T06:39:57.490679Z",
     "shell.execute_reply.started": "2022-11-15T06:39:57.477782Z"
    }
   },
   "outputs": [],
   "source": [
    "def splitTrainTestSet(X, y, testRatio, randomState=345):\n",
    "    X_train, X_test, y_train, y_test = train_test_split(X, y, test_size=testRatio, random_state=randomState,\n",
    "                                                        stratify=y)\n",
    "    return X_train, X_test, y_train, y_test"
   ]
  },
  {
   "cell_type": "markdown",
   "metadata": {},
   "source": [
    "PCA (Temel Bileşen Analizi) kullanarak verisetimizi sıkıştırıyoruz.\n",
    "PCA sıkışan verimizdeki kaybın olabildiğince minimal olmasını sağlıyor"
   ]
  },
  {
   "cell_type": "code",
   "execution_count": 6,
   "metadata": {
    "execution": {
     "iopub.execute_input": "2022-11-15T06:39:57.495077Z",
     "iopub.status.busy": "2022-11-15T06:39:57.494522Z",
     "iopub.status.idle": "2022-11-15T06:39:57.509795Z",
     "shell.execute_reply": "2022-11-15T06:39:57.508157Z",
     "shell.execute_reply.started": "2022-11-15T06:39:57.495026Z"
    }
   },
   "outputs": [],
   "source": [
    "def applyPCA(X, numComponents=75):\n",
    "    newX = np.reshape(X, (-1, X.shape[2]))\n",
    "    pca = PCA(n_components=numComponents, whiten=True)\n",
    "    newX = pca.fit_transform(newX)\n",
    "    newX = np.reshape(newX, (X.shape[0],X.shape[1], numComponents))\n",
    "    return newX, pca"
   ]
  },
  {
   "cell_type": "markdown",
   "metadata": {},
   "source": [
    "## Görüntüleri küp şekle ayırıyoruz.\n",
    "**Keras modulu içine vereceğimiz verilerin şeklini küp veya kare olarak verilmesini ister bizler 3D cnn kullandığımız için burada görüntülerimizden bir bakıma küp küp çıktılar alacağız.**\n",
    "*Bu kısım bir nevi verisetimizin kerasa optimizasyonunu sağlıyor. "
   ]
  },
  {
   "cell_type": "code",
   "execution_count": 7,
   "metadata": {
    "execution": {
     "iopub.execute_input": "2022-11-15T06:39:57.513199Z",
     "iopub.status.busy": "2022-11-15T06:39:57.512221Z",
     "iopub.status.idle": "2022-11-15T06:39:57.528291Z",
     "shell.execute_reply": "2022-11-15T06:39:57.526902Z",
     "shell.execute_reply.started": "2022-11-15T06:39:57.513142Z"
    }
   },
   "outputs": [],
   "source": [
    "def createImageCubes(X, y, windowSize=5, removeZeroLabels = True):\n",
    "    margin = int((windowSize - 1) / 2)\n",
    "    zeroPaddedX = padWithZeros(X, margin=margin)\n",
    "    # split patches\n",
    "    patchesData = np.zeros((X.shape[0] * X.shape[1], windowSize, windowSize, X.shape[2]))\n",
    "    patchesLabels = np.zeros((X.shape[0] * X.shape[1]))\n",
    "    patchIndex = 0\n",
    "    for r in range(margin, zeroPaddedX.shape[0] - margin):\n",
    "        for c in range(margin, zeroPaddedX.shape[1] - margin):\n",
    "            patch = zeroPaddedX[r - margin:r + margin + 1, c - margin:c + margin + 1]   \n",
    "            patchesData[patchIndex, :, :, :] = patch\n",
    "            patchesLabels[patchIndex] = y[r-margin, c-margin]\n",
    "            patchIndex = patchIndex + 1\n",
    "    if removeZeroLabels:\n",
    "        patchesData = patchesData[patchesLabels>0,:,:,:]\n",
    "        patchesLabels = patchesLabels[patchesLabels>0]\n",
    "        patchesLabels -= 1\n",
    "    return patchesData, patchesLabels"
   ]
  },
  {
   "cell_type": "code",
   "execution_count": 8,
   "metadata": {
    "execution": {
     "iopub.execute_input": "2022-11-15T06:39:57.530643Z",
     "iopub.status.busy": "2022-11-15T06:39:57.530036Z",
     "iopub.status.idle": "2022-11-15T06:39:57.553581Z",
     "shell.execute_reply": "2022-11-15T06:39:57.552539Z",
     "shell.execute_reply.started": "2022-11-15T06:39:57.530589Z"
    }
   },
   "outputs": [
    {
     "data": {
      "text/plain": [
       "((610, 340, 103), (610, 340))"
      ]
     },
     "execution_count": 8,
     "metadata": {},
     "output_type": "execute_result"
    }
   ],
   "source": [
    "X.shape, y.shape"
   ]
  },
  {
   "cell_type": "code",
   "execution_count": 9,
   "metadata": {
    "execution": {
     "iopub.execute_input": "2022-11-15T06:39:57.555712Z",
     "iopub.status.busy": "2022-11-15T06:39:57.555307Z",
     "iopub.status.idle": "2022-11-15T06:39:57.571284Z",
     "shell.execute_reply": "2022-11-15T06:39:57.569924Z",
     "shell.execute_reply.started": "2022-11-15T06:39:57.555661Z"
    }
   },
   "outputs": [
    {
     "data": {
      "text/plain": [
       "103"
      ]
     },
     "execution_count": 9,
     "metadata": {},
     "output_type": "execute_result"
    }
   ],
   "source": [
    "K=X.shape[2]\n",
    "K"
   ]
  },
  {
   "cell_type": "code",
   "execution_count": 10,
   "metadata": {
    "execution": {
     "iopub.execute_input": "2022-11-15T06:39:57.576490Z",
     "iopub.status.busy": "2022-11-15T06:39:57.575239Z",
     "iopub.status.idle": "2022-11-15T06:40:00.291501Z",
     "shell.execute_reply": "2022-11-15T06:40:00.290629Z",
     "shell.execute_reply.started": "2022-11-15T06:39:57.576452Z"
    }
   },
   "outputs": [
    {
     "data": {
      "text/plain": [
       "(610, 340, 15)"
      ]
     },
     "execution_count": 10,
     "metadata": {},
     "output_type": "execute_result"
    }
   ],
   "source": [
    "X,pca=applyPCA(X,numComponents=15)\n",
    "X.shape"
   ]
  },
  {
   "cell_type": "code",
   "execution_count": 11,
   "metadata": {
    "execution": {
     "iopub.execute_input": "2022-11-15T06:40:00.293457Z",
     "iopub.status.busy": "2022-11-15T06:40:00.293059Z",
     "iopub.status.idle": "2022-11-15T06:40:17.631083Z",
     "shell.execute_reply": "2022-11-15T06:40:17.628749Z",
     "shell.execute_reply.started": "2022-11-15T06:40:00.293423Z"
    },
    "scrolled": true
   },
   "outputs": [
    {
     "data": {
      "text/plain": [
       "((42776, 25, 25, 15), (42776,))"
      ]
     },
     "execution_count": 11,
     "metadata": {},
     "output_type": "execute_result"
    }
   ],
   "source": [
    "X, y = createImageCubes(X, y, windowSize=25)\n",
    "\n",
    "X.shape, y.shape"
   ]
  },
  {
   "cell_type": "code",
   "execution_count": 12,
   "metadata": {
    "execution": {
     "iopub.execute_input": "2022-11-15T06:40:17.633274Z",
     "iopub.status.busy": "2022-11-15T06:40:17.632853Z",
     "iopub.status.idle": "2022-11-15T06:40:19.279775Z",
     "shell.execute_reply": "2022-11-15T06:40:19.278543Z",
     "shell.execute_reply.started": "2022-11-15T06:40:17.633236Z"
    }
   },
   "outputs": [
    {
     "ename": "KeyboardInterrupt",
     "evalue": "",
     "output_type": "error",
     "traceback": [
      "\u001b[1;31m---------------------------------------------------------------------------\u001b[0m",
      "\u001b[1;31mKeyboardInterrupt\u001b[0m                         Traceback (most recent call last)",
      "\u001b[1;32m<ipython-input-12-6a704a572a79>\u001b[0m in \u001b[0;36m<module>\u001b[1;34m\u001b[0m\n\u001b[1;32m----> 1\u001b[1;33m \u001b[0mXtrain\u001b[0m\u001b[1;33m,\u001b[0m \u001b[0mXtest\u001b[0m\u001b[1;33m,\u001b[0m \u001b[0mytrain\u001b[0m\u001b[1;33m,\u001b[0m \u001b[0mytest\u001b[0m \u001b[1;33m=\u001b[0m \u001b[0msplitTrainTestSet\u001b[0m\u001b[1;33m(\u001b[0m\u001b[0mX\u001b[0m\u001b[1;33m,\u001b[0m \u001b[0my\u001b[0m\u001b[1;33m,\u001b[0m \u001b[0mtest_ratio\u001b[0m\u001b[1;33m)\u001b[0m\u001b[1;33m\u001b[0m\u001b[1;33m\u001b[0m\u001b[0m\n\u001b[0m\u001b[0;32m      2\u001b[0m \u001b[1;33m\u001b[0m\u001b[0m\n\u001b[0;32m      3\u001b[0m \u001b[0mXtrain\u001b[0m\u001b[1;33m.\u001b[0m\u001b[0mshape\u001b[0m\u001b[1;33m,\u001b[0m \u001b[0mXtest\u001b[0m\u001b[1;33m.\u001b[0m\u001b[0mshape\u001b[0m\u001b[1;33m,\u001b[0m \u001b[0mytrain\u001b[0m\u001b[1;33m.\u001b[0m\u001b[0mshape\u001b[0m\u001b[1;33m,\u001b[0m \u001b[0mytest\u001b[0m\u001b[1;33m.\u001b[0m\u001b[0mshape\u001b[0m\u001b[1;33m\u001b[0m\u001b[1;33m\u001b[0m\u001b[0m\n",
      "\u001b[1;32m<ipython-input-5-e29b18c1c332>\u001b[0m in \u001b[0;36msplitTrainTestSet\u001b[1;34m(X, y, testRatio, randomState)\u001b[0m\n\u001b[0;32m      1\u001b[0m \u001b[1;32mdef\u001b[0m \u001b[0msplitTrainTestSet\u001b[0m\u001b[1;33m(\u001b[0m\u001b[0mX\u001b[0m\u001b[1;33m,\u001b[0m \u001b[0my\u001b[0m\u001b[1;33m,\u001b[0m \u001b[0mtestRatio\u001b[0m\u001b[1;33m,\u001b[0m \u001b[0mrandomState\u001b[0m\u001b[1;33m=\u001b[0m\u001b[1;36m345\u001b[0m\u001b[1;33m)\u001b[0m\u001b[1;33m:\u001b[0m\u001b[1;33m\u001b[0m\u001b[1;33m\u001b[0m\u001b[0m\n\u001b[1;32m----> 2\u001b[1;33m     X_train, X_test, y_train, y_test = train_test_split(X, y, test_size=testRatio, random_state=randomState,\n\u001b[0m\u001b[0;32m      3\u001b[0m                                                         stratify=y)\n\u001b[0;32m      4\u001b[0m     \u001b[1;32mreturn\u001b[0m \u001b[0mX_train\u001b[0m\u001b[1;33m,\u001b[0m \u001b[0mX_test\u001b[0m\u001b[1;33m,\u001b[0m \u001b[0my_train\u001b[0m\u001b[1;33m,\u001b[0m \u001b[0my_test\u001b[0m\u001b[1;33m\u001b[0m\u001b[1;33m\u001b[0m\u001b[0m\n",
      "\u001b[1;32mD:\\Anaconda\\lib\\site-packages\\sklearn\\model_selection\\_split.py\u001b[0m in \u001b[0;36mtrain_test_split\u001b[1;34m(test_size, train_size, random_state, shuffle, stratify, *arrays)\u001b[0m\n\u001b[0;32m   2197\u001b[0m         \u001b[0mtrain\u001b[0m\u001b[1;33m,\u001b[0m \u001b[0mtest\u001b[0m \u001b[1;33m=\u001b[0m \u001b[0mnext\u001b[0m\u001b[1;33m(\u001b[0m\u001b[0mcv\u001b[0m\u001b[1;33m.\u001b[0m\u001b[0msplit\u001b[0m\u001b[1;33m(\u001b[0m\u001b[0mX\u001b[0m\u001b[1;33m=\u001b[0m\u001b[0marrays\u001b[0m\u001b[1;33m[\u001b[0m\u001b[1;36m0\u001b[0m\u001b[1;33m]\u001b[0m\u001b[1;33m,\u001b[0m \u001b[0my\u001b[0m\u001b[1;33m=\u001b[0m\u001b[0mstratify\u001b[0m\u001b[1;33m)\u001b[0m\u001b[1;33m)\u001b[0m\u001b[1;33m\u001b[0m\u001b[1;33m\u001b[0m\u001b[0m\n\u001b[0;32m   2198\u001b[0m \u001b[1;33m\u001b[0m\u001b[0m\n\u001b[1;32m-> 2199\u001b[1;33m     return list(chain.from_iterable((_safe_indexing(a, train),\n\u001b[0m\u001b[0;32m   2200\u001b[0m                                      _safe_indexing(a, test)) for a in arrays))\n\u001b[0;32m   2201\u001b[0m \u001b[1;33m\u001b[0m\u001b[0m\n",
      "\u001b[1;32mD:\\Anaconda\\lib\\site-packages\\sklearn\\model_selection\\_split.py\u001b[0m in \u001b[0;36m<genexpr>\u001b[1;34m(.0)\u001b[0m\n\u001b[0;32m   2198\u001b[0m \u001b[1;33m\u001b[0m\u001b[0m\n\u001b[0;32m   2199\u001b[0m     return list(chain.from_iterable((_safe_indexing(a, train),\n\u001b[1;32m-> 2200\u001b[1;33m                                      _safe_indexing(a, test)) for a in arrays))\n\u001b[0m\u001b[0;32m   2201\u001b[0m \u001b[1;33m\u001b[0m\u001b[0m\n\u001b[0;32m   2202\u001b[0m \u001b[1;33m\u001b[0m\u001b[0m\n",
      "\u001b[1;32mD:\\Anaconda\\lib\\site-packages\\sklearn\\utils\\__init__.py\u001b[0m in \u001b[0;36m_safe_indexing\u001b[1;34m(X, indices, axis)\u001b[0m\n\u001b[0;32m    342\u001b[0m         \u001b[1;32mreturn\u001b[0m \u001b[0m_pandas_indexing\u001b[0m\u001b[1;33m(\u001b[0m\u001b[0mX\u001b[0m\u001b[1;33m,\u001b[0m \u001b[0mindices\u001b[0m\u001b[1;33m,\u001b[0m \u001b[0mindices_dtype\u001b[0m\u001b[1;33m,\u001b[0m \u001b[0maxis\u001b[0m\u001b[1;33m=\u001b[0m\u001b[0maxis\u001b[0m\u001b[1;33m)\u001b[0m\u001b[1;33m\u001b[0m\u001b[1;33m\u001b[0m\u001b[0m\n\u001b[0;32m    343\u001b[0m     \u001b[1;32melif\u001b[0m \u001b[0mhasattr\u001b[0m\u001b[1;33m(\u001b[0m\u001b[0mX\u001b[0m\u001b[1;33m,\u001b[0m \u001b[1;34m\"shape\"\u001b[0m\u001b[1;33m)\u001b[0m\u001b[1;33m:\u001b[0m\u001b[1;33m\u001b[0m\u001b[1;33m\u001b[0m\u001b[0m\n\u001b[1;32m--> 344\u001b[1;33m         \u001b[1;32mreturn\u001b[0m \u001b[0m_array_indexing\u001b[0m\u001b[1;33m(\u001b[0m\u001b[0mX\u001b[0m\u001b[1;33m,\u001b[0m \u001b[0mindices\u001b[0m\u001b[1;33m,\u001b[0m \u001b[0mindices_dtype\u001b[0m\u001b[1;33m,\u001b[0m \u001b[0maxis\u001b[0m\u001b[1;33m=\u001b[0m\u001b[0maxis\u001b[0m\u001b[1;33m)\u001b[0m\u001b[1;33m\u001b[0m\u001b[1;33m\u001b[0m\u001b[0m\n\u001b[0m\u001b[0;32m    345\u001b[0m     \u001b[1;32melse\u001b[0m\u001b[1;33m:\u001b[0m\u001b[1;33m\u001b[0m\u001b[1;33m\u001b[0m\u001b[0m\n\u001b[0;32m    346\u001b[0m         \u001b[1;32mreturn\u001b[0m \u001b[0m_list_indexing\u001b[0m\u001b[1;33m(\u001b[0m\u001b[0mX\u001b[0m\u001b[1;33m,\u001b[0m \u001b[0mindices\u001b[0m\u001b[1;33m,\u001b[0m \u001b[0mindices_dtype\u001b[0m\u001b[1;33m)\u001b[0m\u001b[1;33m\u001b[0m\u001b[1;33m\u001b[0m\u001b[0m\n",
      "\u001b[1;32mD:\\Anaconda\\lib\\site-packages\\sklearn\\utils\\__init__.py\u001b[0m in \u001b[0;36m_array_indexing\u001b[1;34m(array, key, key_dtype, axis)\u001b[0m\n\u001b[0;32m    177\u001b[0m     \u001b[1;32mif\u001b[0m \u001b[0misinstance\u001b[0m\u001b[1;33m(\u001b[0m\u001b[0mkey\u001b[0m\u001b[1;33m,\u001b[0m \u001b[0mtuple\u001b[0m\u001b[1;33m)\u001b[0m\u001b[1;33m:\u001b[0m\u001b[1;33m\u001b[0m\u001b[1;33m\u001b[0m\u001b[0m\n\u001b[0;32m    178\u001b[0m         \u001b[0mkey\u001b[0m \u001b[1;33m=\u001b[0m \u001b[0mlist\u001b[0m\u001b[1;33m(\u001b[0m\u001b[0mkey\u001b[0m\u001b[1;33m)\u001b[0m\u001b[1;33m\u001b[0m\u001b[1;33m\u001b[0m\u001b[0m\n\u001b[1;32m--> 179\u001b[1;33m     \u001b[1;32mreturn\u001b[0m \u001b[0marray\u001b[0m\u001b[1;33m[\u001b[0m\u001b[0mkey\u001b[0m\u001b[1;33m]\u001b[0m \u001b[1;32mif\u001b[0m \u001b[0maxis\u001b[0m \u001b[1;33m==\u001b[0m \u001b[1;36m0\u001b[0m \u001b[1;32melse\u001b[0m \u001b[0marray\u001b[0m\u001b[1;33m[\u001b[0m\u001b[1;33m:\u001b[0m\u001b[1;33m,\u001b[0m \u001b[0mkey\u001b[0m\u001b[1;33m]\u001b[0m\u001b[1;33m\u001b[0m\u001b[1;33m\u001b[0m\u001b[0m\n\u001b[0m\u001b[0;32m    180\u001b[0m \u001b[1;33m\u001b[0m\u001b[0m\n\u001b[0;32m    181\u001b[0m \u001b[1;33m\u001b[0m\u001b[0m\n",
      "\u001b[1;31mKeyboardInterrupt\u001b[0m: "
     ]
    }
   ],
   "source": [
    "Xtrain, Xtest, ytrain, ytest = splitTrainTestSet(X, y, test_ratio)\n",
    "\n",
    "Xtrain.shape, Xtest.shape, ytrain.shape, ytest.shape"
   ]
  },
  {
   "cell_type": "markdown",
   "metadata": {},
   "source": [
    "***Train datamızı yukarıda ayırmıştık şimdi ayırdığımız train datasını ilk etapta test edebilmek için validation datasına ayırıyoruz ratio=0.33***\n",
    "\n",
    "**Özellikle çok büyük veri setleri üzerinde sürekli Train datası üzerinden çalışılamayacağı için küçük bir bölüm alınarak validation olarak tanımlanır.**\n"
   ]
  },
  {
   "cell_type": "code",
   "execution_count": null,
   "metadata": {
    "execution": {
     "iopub.execute_input": "2022-11-15T06:40:19.281852Z",
     "iopub.status.busy": "2022-11-15T06:40:19.281376Z",
     "iopub.status.idle": "2022-11-15T06:40:19.788435Z",
     "shell.execute_reply": "2022-11-15T06:40:19.787347Z",
     "shell.execute_reply.started": "2022-11-15T06:40:19.281811Z"
    }
   },
   "outputs": [],
   "source": [
    "Xtrain, Xvalid, ytrain, yvalid = splitTrainTestSet(Xtrain, ytrain, 0.3333)\n",
    "\n",
    "Xtrain.shape, Xvalid.shape, ytrain.shape, yvalid.shape"
   ]
  },
  {
   "cell_type": "code",
   "execution_count": null,
   "metadata": {
    "execution": {
     "iopub.execute_input": "2022-11-15T06:40:19.790166Z",
     "iopub.status.busy": "2022-11-15T06:40:19.789832Z",
     "iopub.status.idle": "2022-11-15T06:40:19.797408Z",
     "shell.execute_reply": "2022-11-15T06:40:19.796344Z",
     "shell.execute_reply.started": "2022-11-15T06:40:19.790129Z"
    }
   },
   "outputs": [],
   "source": [
    "Xtrain = Xtrain.reshape(-1, pixelsize, pixelsize, 15, 1)\n",
    "Xtrain.shape"
   ]
  },
  {
   "cell_type": "code",
   "execution_count": null,
   "metadata": {
    "execution": {
     "iopub.execute_input": "2022-11-15T06:40:19.799068Z",
     "iopub.status.busy": "2022-11-15T06:40:19.798753Z",
     "iopub.status.idle": "2022-11-15T06:40:19.814623Z",
     "shell.execute_reply": "2022-11-15T06:40:19.813677Z",
     "shell.execute_reply.started": "2022-11-15T06:40:19.799040Z"
    }
   },
   "outputs": [],
   "source": [
    "ytrain = np_utils.to_categorical(ytrain)\n",
    "ytrain.shape"
   ]
  },
  {
   "cell_type": "code",
   "execution_count": null,
   "metadata": {
    "execution": {
     "iopub.execute_input": "2022-11-15T06:40:19.817510Z",
     "iopub.status.busy": "2022-11-15T06:40:19.816631Z",
     "iopub.status.idle": "2022-11-15T06:40:19.829583Z",
     "shell.execute_reply": "2022-11-15T06:40:19.828371Z",
     "shell.execute_reply.started": "2022-11-15T06:40:19.817475Z"
    }
   },
   "outputs": [],
   "source": [
    "Xvalid = Xvalid.reshape(-1, pixelsize, pixelsize, 15, 1) \n",
    "Xvalid.shape"
   ]
  },
  {
   "cell_type": "code",
   "execution_count": null,
   "metadata": {
    "execution": {
     "iopub.execute_input": "2022-11-15T06:40:19.831989Z",
     "iopub.status.busy": "2022-11-15T06:40:19.831513Z",
     "iopub.status.idle": "2022-11-15T06:40:19.844567Z",
     "shell.execute_reply": "2022-11-15T06:40:19.843392Z",
     "shell.execute_reply.started": "2022-11-15T06:40:19.831949Z"
    }
   },
   "outputs": [],
   "source": [
    "yvalid=np_utils.to_categorical(yvalid)\n",
    "yvalid.shape"
   ]
  },
  {
   "cell_type": "markdown",
   "metadata": {},
   "source": [
    "# CNN modelimizi oluşturuyoruz."
   ]
  },
  {
   "cell_type": "code",
   "execution_count": null,
   "metadata": {
    "execution": {
     "iopub.execute_input": "2022-11-15T06:40:19.846248Z",
     "iopub.status.busy": "2022-11-15T06:40:19.845781Z",
     "iopub.status.idle": "2022-11-15T06:40:20.066173Z",
     "shell.execute_reply": "2022-11-15T06:40:20.065058Z",
     "shell.execute_reply.started": "2022-11-15T06:40:19.846217Z"
    }
   },
   "outputs": [],
   "source": [
    "input_layer=Input((25,25,15,1))\n",
    "conv_layer1 = Conv3D(filters=8, kernel_size=(3, 3, 7), activation='relu')(input_layer)\n",
    "conv_layer2 = Conv3D(filters=16, kernel_size=(3, 3, 5), activation='relu')(conv_layer1)\n",
    "conv_layer3 = Conv3D(filters=32, kernel_size=(3, 3, 3), activation='relu')(conv_layer2)\n",
    "print(conv_layer3.shape)\n",
    "conv3d_shape = conv_layer3.shape\n",
    "conv_layer3 = Reshape((conv3d_shape[1], conv3d_shape[2], conv3d_shape[3]*conv3d_shape[4]))(conv_layer3)\n",
    "conv_layer4 = Conv2D(filters=64, kernel_size=(3,3), activation='relu')(conv_layer3)\n",
    "flatten_layer = Flatten()(conv_layer4)\n",
    "dense_layer1 = Dense(units=256, activation='relu')(flatten_layer)\n",
    "dense_layer1 = Dropout(0.4)(dense_layer1)\n",
    "dense_layer2 = Dense(units=128, activation='relu')(dense_layer1)\n",
    "dense_layer2 = Dropout(0.4)(dense_layer2)\n",
    "output_layer = Dense(units=9, activation='softmax')(dense_layer2)"
   ]
  },
  {
   "cell_type": "code",
   "execution_count": null,
   "metadata": {
    "execution": {
     "iopub.execute_input": "2022-11-15T06:40:20.068058Z",
     "iopub.status.busy": "2022-11-15T06:40:20.067608Z",
     "iopub.status.idle": "2022-11-15T06:40:20.077902Z",
     "shell.execute_reply": "2022-11-15T06:40:20.076913Z",
     "shell.execute_reply.started": "2022-11-15T06:40:20.068024Z"
    }
   },
   "outputs": [],
   "source": [
    "model=Model(inputs=input_layer,outputs=output_layer)\n"
   ]
  },
  {
   "cell_type": "markdown",
   "metadata": {},
   "source": [
    "# *Modelimizin özetini bastırıyoruz*"
   ]
  },
  {
   "cell_type": "code",
   "execution_count": null,
   "metadata": {
    "execution": {
     "iopub.execute_input": "2022-11-15T06:40:20.079787Z",
     "iopub.status.busy": "2022-11-15T06:40:20.079375Z",
     "iopub.status.idle": "2022-11-15T06:40:20.090681Z",
     "shell.execute_reply": "2022-11-15T06:40:20.089750Z",
     "shell.execute_reply.started": "2022-11-15T06:40:20.079752Z"
    }
   },
   "outputs": [],
   "source": [
    "model.summary()"
   ]
  },
  {
   "cell_type": "markdown",
   "metadata": {},
   "source": [
    "# *Adam optimizeri kullanıyoruz metric olarak accuracy kullanıyoruz.*"
   ]
  },
  {
   "cell_type": "markdown",
   "metadata": {},
   "source": []
  },
  {
   "cell_type": "code",
   "execution_count": null,
   "metadata": {
    "execution": {
     "iopub.execute_input": "2022-11-15T06:40:20.092434Z",
     "iopub.status.busy": "2022-11-15T06:40:20.091943Z",
     "iopub.status.idle": "2022-11-15T06:40:20.117337Z",
     "shell.execute_reply": "2022-11-15T06:40:20.115782Z",
     "shell.execute_reply.started": "2022-11-15T06:40:20.092404Z"
    }
   },
   "outputs": [],
   "source": [
    "adam=Adam(learning_rate=0.001,decay=1e-06)\n",
    "model.compile(optimizer=adam,loss='categorical_crossentropy',metrics=['accuracy'])"
   ]
  },
  {
   "cell_type": "markdown",
   "metadata": {},
   "source": [
    "# Oluşturduğumuz modeli kayıt ediyoruz."
   ]
  },
  {
   "cell_type": "code",
   "execution_count": null,
   "metadata": {
    "execution": {
     "iopub.execute_input": "2022-11-15T06:40:20.119867Z",
     "iopub.status.busy": "2022-11-15T06:40:20.119195Z",
     "iopub.status.idle": "2022-11-15T06:40:20.126726Z",
     "shell.execute_reply": "2022-11-15T06:40:20.125570Z",
     "shell.execute_reply.started": "2022-11-15T06:40:20.119830Z"
    }
   },
   "outputs": [],
   "source": [
    "filepath = \"best-model.hdf5\"\n",
    "metric='acc'\n",
    "checkpoint=ModelCheckpoint(filepath=filepath,monitor=metric,verbose=1,save_best_only=True,mode='max')\n",
    "callback_list=[checkpoint]"
   ]
  },
  {
   "cell_type": "markdown",
   "metadata": {},
   "source": [
    "# Model fitleme epoch=10 (göstermek için sonradan değişecek 50,100,200,250 değerleri ile sonuç değişimis kayıt edilecek)"
   ]
  },
  {
   "cell_type": "code",
   "execution_count": null,
   "metadata": {
    "execution": {
     "iopub.execute_input": "2022-11-15T06:40:20.129633Z",
     "iopub.status.busy": "2022-11-15T06:40:20.128542Z",
     "iopub.status.idle": "2022-11-15T06:45:56.856137Z",
     "shell.execute_reply": "2022-11-15T06:45:56.855145Z",
     "shell.execute_reply.started": "2022-11-15T06:40:20.129590Z"
    }
   },
   "outputs": [],
   "source": [
    "history=model.fit(x=Xtrain,y=ytrain,validation_data=(Xvalid,yvalid),batch_size=256,epochs=10,callbacks=callback_list)"
   ]
  },
  {
   "cell_type": "code",
   "execution_count": null,
   "metadata": {
    "execution": {
     "iopub.execute_input": "2022-11-15T06:45:56.857888Z",
     "iopub.status.busy": "2022-11-15T06:45:56.857468Z",
     "iopub.status.idle": "2022-11-15T06:45:56.996527Z",
     "shell.execute_reply": "2022-11-15T06:45:56.995261Z",
     "shell.execute_reply.started": "2022-11-15T06:45:56.857857Z"
    }
   },
   "outputs": [],
   "source": [
    "model.save(\"best-model1.hdf5\")"
   ]
  },
  {
   "cell_type": "markdown",
   "metadata": {},
   "source": [
    "Sonuçların grafik ile gösterimi"
   ]
  },
  {
   "cell_type": "code",
   "execution_count": null,
   "metadata": {
    "execution": {
     "iopub.execute_input": "2022-11-15T06:45:56.998481Z",
     "iopub.status.busy": "2022-11-15T06:45:56.998044Z",
     "iopub.status.idle": "2022-11-15T06:45:57.576161Z",
     "shell.execute_reply": "2022-11-15T06:45:57.573717Z",
     "shell.execute_reply.started": "2022-11-15T06:45:56.998439Z"
    }
   },
   "outputs": [],
   "source": [
    "plt.figure(figsize=(7,7)) \n",
    "plt.grid() \n",
    "plt.plot(history.history['loss'])\n",
    "plt.plot(history.history['val_loss'])\n",
    "plt.ylabel('Loss') \n",
    "plt.xlabel('Epochs')\n",
    "plt.legend(['Training','Validation'], loc='upper right') \n",
    "plt.savefig(\"PAVIA_loss_curve.pdf\") \n",
    "plt.show()\n",
    "\n"
   ]
  },
  {
   "cell_type": "code",
   "execution_count": null,
   "metadata": {
    "execution": {
     "iopub.execute_input": "2022-11-15T06:45:57.577594Z",
     "iopub.status.busy": "2022-11-15T06:45:57.577279Z",
     "iopub.status.idle": "2022-11-15T06:45:57.880354Z",
     "shell.execute_reply": "2022-11-15T06:45:57.879001Z",
     "shell.execute_reply.started": "2022-11-15T06:45:57.577565Z"
    }
   },
   "outputs": [],
   "source": [
    "plt.figure(figsize=(7,7)) \n",
    "plt.ylim(0,1.1) \n",
    "plt.grid() \n",
    "plt.plot(history.history['accuracy'])\n",
    "plt.plot(history.history['val_accuracy'])\n",
    "plt.ylabel('Accuracy') \n",
    "plt.xlabel('Epochs') \n",
    "plt.legend(['Training','Validation']) \n",
    "plt.savefig(\"PAVIA_acc_curve.pdf\") \n",
    "plt.show()"
   ]
  },
  {
   "cell_type": "markdown",
   "metadata": {},
   "source": [
    "# Modeli test etmek için modeli yüklüyoruz."
   ]
  },
  {
   "cell_type": "code",
   "execution_count": null,
   "metadata": {
    "execution": {
     "iopub.execute_input": "2022-11-15T06:45:57.882191Z",
     "iopub.status.busy": "2022-11-15T06:45:57.881882Z",
     "iopub.status.idle": "2022-11-15T06:45:57.895401Z",
     "shell.execute_reply": "2022-11-15T06:45:57.893953Z",
     "shell.execute_reply.started": "2022-11-15T06:45:57.882163Z"
    }
   },
   "outputs": [],
   "source": [
    "model.load_weights=(\"best-model1.hdf5\")\n",
    "model.compile(loss='categorical_crossentropy', optimizer=adam, metrics=['accuracy'])\n"
   ]
  },
  {
   "cell_type": "code",
   "execution_count": null,
   "metadata": {
    "execution": {
     "iopub.execute_input": "2022-11-15T06:45:57.902046Z",
     "iopub.status.busy": "2022-11-15T06:45:57.901680Z",
     "iopub.status.idle": "2022-11-15T06:45:57.914256Z",
     "shell.execute_reply": "2022-11-15T06:45:57.912593Z",
     "shell.execute_reply.started": "2022-11-15T06:45:57.902015Z"
    }
   },
   "outputs": [],
   "source": [
    "Xtest=Xtest.reshape(-1,pixelsize,pixelsize,15,1)\n",
    "Xtest.shape"
   ]
  },
  {
   "cell_type": "code",
   "execution_count": null,
   "metadata": {
    "execution": {
     "iopub.execute_input": "2022-11-15T06:45:57.916013Z",
     "iopub.status.busy": "2022-11-15T06:45:57.915594Z",
     "iopub.status.idle": "2022-11-15T06:45:57.930904Z",
     "shell.execute_reply": "2022-11-15T06:45:57.929429Z",
     "shell.execute_reply.started": "2022-11-15T06:45:57.915982Z"
    }
   },
   "outputs": [],
   "source": [
    "ytest=np_utils.to_categorical(ytest)\n",
    "ytest.shape"
   ]
  },
  {
   "cell_type": "code",
   "execution_count": null,
   "metadata": {
    "execution": {
     "iopub.execute_input": "2022-11-15T06:45:57.933182Z",
     "iopub.status.busy": "2022-11-15T06:45:57.932644Z",
     "iopub.status.idle": "2022-11-15T06:46:36.305744Z",
     "shell.execute_reply": "2022-11-15T06:46:36.304534Z",
     "shell.execute_reply.started": "2022-11-15T06:45:57.933142Z"
    }
   },
   "outputs": [],
   "source": [
    "Y_pred_test=model.predict(Xtest)\n",
    "Y_pred_test=np.argmax(Y_pred_test,axis=1)\n",
    "classification= classification_report(np.argmax(ytest,axis=1),Y_pred_test)\n",
    "print(classification)"
   ]
  },
  {
   "cell_type": "markdown",
   "metadata": {},
   "source": []
  },
  {
   "cell_type": "code",
   "execution_count": null,
   "metadata": {
    "execution": {
     "iopub.execute_input": "2022-11-15T06:46:36.308143Z",
     "iopub.status.busy": "2022-11-15T06:46:36.307618Z",
     "iopub.status.idle": "2022-11-15T06:46:36.315523Z",
     "shell.execute_reply": "2022-11-15T06:46:36.314139Z",
     "shell.execute_reply.started": "2022-11-15T06:46:36.308079Z"
    }
   },
   "outputs": [],
   "source": [
    "def AA_andEachClassAccuracy(confusion_matrix):\n",
    "    counter= confusion_matrix[0]\n",
    "    list_diag= np.diag(confusion_matrix)\n",
    "    list_raw_sum= np.sum(confusion_matrix,axis=1)\n",
    "    each_acc=np.nan_to_num(truediv(list_diag,list_raw_sum))\n",
    "    average_acc=np.mean(each_acc)\n",
    "    return each_acc, average_acc"
   ]
  },
  {
   "cell_type": "code",
   "execution_count": null,
   "metadata": {
    "execution": {
     "iopub.execute_input": "2022-11-15T06:46:36.318127Z",
     "iopub.status.busy": "2022-11-15T06:46:36.317330Z",
     "iopub.status.idle": "2022-11-15T06:46:36.331517Z",
     "shell.execute_reply": "2022-11-15T06:46:36.330256Z",
     "shell.execute_reply.started": "2022-11-15T06:46:36.318085Z"
    }
   },
   "outputs": [],
   "source": [
    "import time \n",
    "def reports(X_test,y_test,name):\n",
    "    start=time.time()\n",
    "    Y_pred=model.predict(X_test)\n",
    "    y_pred=np.argmax(Y_pred,axis=1)\n",
    "    end=time.time()\n",
    "    print(end-start)\n",
    "    target_names=['Asphalt','Meadows','Gravel','Trees','Painted metal sheets','Bare Soil','Bitumen','Self-Blocking Bricks','Shadows']\n",
    "    classification=classification_report(np.argmax(y_test,axis=1),y_pred,target_names=target_names)\n",
    "    oa=accuracy_score(np.argmax(y_test,axis=1),y_pred)\n",
    "    confusion = confusion_matrix(np.argmax(y_test, axis=1), y_pred)\n",
    "    each_acc, aa = AA_andEachClassAccuracy(confusion)\n",
    "    kappa = cohen_kappa_score(np.argmax(y_test, axis=1), y_pred)\n",
    "    score = model.evaluate(X_test, y_test, batch_size=32)\n",
    "    Test_Loss =  score[0]*100\n",
    "    Test_accuracy = score[1]*100\n",
    "    return classification, confusion, Test_Loss, Test_accuracy, oa*100, each_acc*100, aa*100, kappa*100"
   ]
  },
  {
   "cell_type": "code",
   "execution_count": null,
   "metadata": {
    "execution": {
     "iopub.execute_input": "2022-11-15T06:46:36.334004Z",
     "iopub.status.busy": "2022-11-15T06:46:36.333007Z",
     "iopub.status.idle": "2022-11-15T06:47:51.315981Z",
     "shell.execute_reply": "2022-11-15T06:47:51.314785Z",
     "shell.execute_reply.started": "2022-11-15T06:46:36.333963Z"
    }
   },
   "outputs": [],
   "source": [
    "import os \n",
    "classification, confusion, Test_loss, Test_accuracy, oa, each_acc, aa, kappa = reports(Xtest,ytest,dataset)\n",
    "classification = str(classification)\n",
    "confusion = str(confusion)\n",
    "file_name = \"classification_report.txt\"\n",
    "\n",
    "with open(file_name, 'w') as x_file:\n",
    "    x_file.write('{} Test loss (%)'.format(Test_loss))\n",
    "    x_file.write('\\n')\n",
    "    x_file.write('{} Test accuracy (%)'.format(Test_accuracy))\n",
    "    x_file.write('\\n')\n",
    "    x_file.write('\\n')\n",
    "    x_file.write('{} Kappa accuracy (%)'.format(kappa))\n",
    "    x_file.write('\\n')\n",
    "    x_file.write('{} Overall accuracy (%)'.format(oa))\n",
    "    x_file.write('\\n')\n",
    "    x_file.write('{} Average accuracy (%)'.format(aa))\n",
    "    x_file.write('\\n')\n",
    "    x_file.write('\\n')\n",
    "    x_file.write('{}'.format(classification))\n",
    "    x_file.write('\\n')\n",
    "    x_file.write('{}'.format(confusion))"
   ]
  },
  {
   "cell_type": "code",
   "execution_count": null,
   "metadata": {
    "execution": {
     "iopub.execute_input": "2022-11-15T06:47:51.318280Z",
     "iopub.status.busy": "2022-11-15T06:47:51.317579Z",
     "iopub.status.idle": "2022-11-15T06:47:51.324702Z",
     "shell.execute_reply": "2022-11-15T06:47:51.323539Z",
     "shell.execute_reply.started": "2022-11-15T06:47:51.318229Z"
    }
   },
   "outputs": [],
   "source": [
    "def Patch(data,height_index,width_index):\n",
    "    height_slice=slice(height_index,height_index+PATCH_SIZE)\n",
    "    width_slice = slice(width_index, width_index+PATCH_SIZE)\n",
    "    patch = data[height_slice, width_slice, :]\n",
    "    \n",
    "    return patch"
   ]
  },
  {
   "cell_type": "code",
   "execution_count": null,
   "metadata": {
    "execution": {
     "iopub.execute_input": "2022-11-15T06:47:51.326780Z",
     "iopub.status.busy": "2022-11-15T06:47:51.326306Z",
     "iopub.status.idle": "2022-11-15T06:47:51.839617Z",
     "shell.execute_reply": "2022-11-15T06:47:51.838324Z",
     "shell.execute_reply.started": "2022-11-15T06:47:51.326736Z"
    }
   },
   "outputs": [],
   "source": [
    "X=loadmat('../hyperspectral/PaviaU.mat')['paviaU']\n",
    "y=loadmat('../hyperspectral/PaviaU_gt.mat')['paviaU_gt']"
   ]
  },
  {
   "cell_type": "code",
   "execution_count": null,
   "metadata": {
    "execution": {
     "iopub.execute_input": "2022-11-15T06:47:51.841537Z",
     "iopub.status.busy": "2022-11-15T06:47:51.841098Z",
     "iopub.status.idle": "2022-11-15T06:47:51.847234Z",
     "shell.execute_reply": "2022-11-15T06:47:51.846192Z",
     "shell.execute_reply.started": "2022-11-15T06:47:51.841495Z"
    }
   },
   "outputs": [],
   "source": [
    "height=y.shape[0]\n",
    "weidth=y.shape[1]\n",
    "PATCH_SIZE=25\n",
    "numComponents=15"
   ]
  },
  {
   "cell_type": "code",
   "execution_count": null,
   "metadata": {
    "execution": {
     "iopub.execute_input": "2022-11-15T06:47:51.848978Z",
     "iopub.status.busy": "2022-11-15T06:47:51.848616Z",
     "iopub.status.idle": "2022-11-15T06:47:55.205839Z",
     "shell.execute_reply": "2022-11-15T06:47:55.204662Z",
     "shell.execute_reply.started": "2022-11-15T06:47:51.848949Z"
    }
   },
   "outputs": [],
   "source": [
    "X,pca=applyPCA(X,numComponents=numComponents)\n"
   ]
  },
  {
   "cell_type": "code",
   "execution_count": null,
   "metadata": {
    "execution": {
     "iopub.execute_input": "2022-11-15T06:47:55.207680Z",
     "iopub.status.busy": "2022-11-15T06:47:55.207325Z",
     "iopub.status.idle": "2022-11-15T06:47:55.230027Z",
     "shell.execute_reply": "2022-11-15T06:47:55.228950Z",
     "shell.execute_reply.started": "2022-11-15T06:47:55.207619Z"
    }
   },
   "outputs": [],
   "source": [
    "X=padWithZeros(X,PATCH_SIZE//2)\n"
   ]
  },
  {
   "cell_type": "code",
   "execution_count": null,
   "metadata": {
    "execution": {
     "iopub.execute_input": "2022-11-15T06:47:55.231833Z",
     "iopub.status.busy": "2022-11-15T06:47:55.231481Z",
     "iopub.status.idle": "2022-11-15T07:30:19.495016Z",
     "shell.execute_reply": "2022-11-15T07:30:19.493539Z",
     "shell.execute_reply.started": "2022-11-15T06:47:55.231805Z"
    }
   },
   "outputs": [],
   "source": [
    "outputs=np.zeros((height,weidth))\n",
    "for i in range (height):\n",
    "    for j in range (weidth):\n",
    "        target=int(y[i,j])\n",
    "        if target==0:\n",
    "            continue\n",
    "        else:\n",
    "            image_patch=Patch(X,i,j)\n",
    "            X_test_image = image_patch.reshape(1,image_patch.shape[0],image_patch.shape[1], image_patch.shape[2], 1).astype('float32')                                   \n",
    "            prediction=(model.predict(X_test_image))\n",
    "            prediction=np.argmax(prediction,axis=1)\n",
    "            outputs[i][j]=prediction+1"
   ]
  },
  {
   "cell_type": "code",
   "execution_count": null,
   "metadata": {
    "execution": {
     "iopub.execute_input": "2022-11-15T07:31:37.088025Z",
     "iopub.status.busy": "2022-11-15T07:31:37.087294Z",
     "iopub.status.idle": "2022-11-15T07:31:37.370343Z",
     "shell.execute_reply": "2022-11-15T07:31:37.369203Z",
     "shell.execute_reply.started": "2022-11-15T07:31:37.087985Z"
    }
   },
   "outputs": [],
   "source": [
    "ground_truth = spectral.imshow(classes = y,figsize =(7,7))\n",
    "\n",
    "ground_truth.savefig(\"gt.jpg\", format=\"jpg\")"
   ]
  },
  {
   "cell_type": "code",
   "execution_count": null,
   "metadata": {
    "execution": {
     "iopub.execute_input": "2022-11-15T07:32:13.134870Z",
     "iopub.status.busy": "2022-11-15T07:32:13.134299Z",
     "iopub.status.idle": "2022-11-15T07:32:13.410807Z",
     "shell.execute_reply": "2022-11-15T07:32:13.409628Z",
     "shell.execute_reply.started": "2022-11-15T07:32:13.134821Z"
    }
   },
   "outputs": [],
   "source": [
    "predict_image = spectral.imshow(classes = outputs.astype(int),figsize =(7,7))\n"
   ]
  },
  {
   "cell_type": "code",
   "execution_count": null,
   "metadata": {
    "execution": {
     "iopub.execute_input": "2022-11-15T07:32:33.856585Z",
     "iopub.status.busy": "2022-11-15T07:32:33.856150Z",
     "iopub.status.idle": "2022-11-15T07:32:33.909965Z",
     "shell.execute_reply": "2022-11-15T07:32:33.908690Z",
     "shell.execute_reply.started": "2022-11-15T07:32:33.856552Z"
    }
   },
   "outputs": [],
   "source": [
    "spectral.save_rgb(\"predictions.jpg\", outputs.astype(int), colors=spectral.spy_colors)\n"
   ]
  },
  {
   "cell_type": "code",
   "execution_count": null,
   "metadata": {},
   "outputs": [],
   "source": []
  }
 ],
 "metadata": {
  "kernelspec": {
   "display_name": "Python 3",
   "language": "python",
   "name": "python3"
  },
  "language_info": {
   "codemirror_mode": {
    "name": "ipython",
    "version": 3
   },
   "file_extension": ".py",
   "mimetype": "text/x-python",
   "name": "python",
   "nbconvert_exporter": "python",
   "pygments_lexer": "ipython3",
   "version": "3.8.8"
  }
 },
 "nbformat": 4,
 "nbformat_minor": 4
}
